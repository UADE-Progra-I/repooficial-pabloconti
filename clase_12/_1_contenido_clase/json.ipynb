{
 "cells": [
  {
   "cell_type": "markdown",
   "id": "cfa592a7",
   "metadata": {},
   "source": [
    "# JSON\n"
   ]
  },
  {
   "cell_type": "markdown",
   "id": "b111ba6e",
   "metadata": {},
   "source": [
    "JSON (JavaScript Object Notation - Notación de Objetos de JavaScript) es un formato ligero de intercambio de datos.\n",
    "<BR>\n",
    "Sigamos leyendo un poco en su sitio web: <a href=\"https://www.json.org/json-en.html\">json.org</a>"
   ]
  },
  {
   "cell_type": "markdown",
   "id": "76dda494",
   "metadata": {},
   "source": [
    "# Actividad Introductoria"
   ]
  },
  {
   "cell_type": "markdown",
   "id": "5be672e6",
   "metadata": {},
   "source": [
    "* Ingresen a <a href=\"https://www.openstreetmap.org/#\">Open Street Map</a> y busquen la dirección de UADE.\n",
    "* Copien las coordenadas geográficas correspondientes a la latitud y la longitud\n"
   ]
  },
  {
   "cell_type": "markdown",
   "id": "6adc5506",
   "metadata": {},
   "source": [
    "Este proceso se llama \"Forward Geodecoding\", y sería equivalente a usar esta URL:"
   ]
  },
  {
   "cell_type": "markdown",
   "id": "6ec0b4f2",
   "metadata": {},
   "source": [
    "https://nominatim.openstreetmap.org/search?q=Lima+775+Ciudad%20Aut%C3%B3noma%20de%20Buenos%20Aires&format=json"
   ]
  },
  {
   "cell_type": "markdown",
   "id": "dd957fea",
   "metadata": {},
   "source": [
    "Nominatim (del latín “por nombre”) es el motor de búsqueda geográfica de OpenStreetMap (OSM).\n",
    "Su función principal es traducir entre direcciones y coordenadas geográficas:\n",
    "<BR>\n",
    "\n",
    "Donde:\n",
    "* q: significa \"query\"\n",
    "* format: puede ser json u xml\n",
    "<BR>\n",
    "\n",
    "El proceso inverso se llama \"Reverse Geodecoding\", a lo cuál podríamos usar esta otra URL para acceder a la dirección a partir de las coordenadas:"
   ]
  },
  {
   "cell_type": "markdown",
   "id": "d9715048",
   "metadata": {},
   "source": [
    "https://nominatim.openstreetmap.org/reverse?lat=-34.617049&lon=-58.382252&format=json&addressdetails=1\n"
   ]
  },
  {
   "cell_type": "markdown",
   "id": "3801810c",
   "metadata": {},
   "source": [
    "En este caso:\n",
    "* lat: indica la latitud\n",
    "* lon: longitud\n",
    "* format: json u xml\n",
    "* addressdetails: nivel de detalle - ver documentación OpenStreetMap\n"
   ]
  },
  {
   "cell_type": "markdown",
   "id": "71d207b5",
   "metadata": {},
   "source": [
    "Se propone ahora buscar las coordenadas geográficas de UADE Recoleta. Usar la URL anterior y validar"
   ]
  },
  {
   "cell_type": "markdown",
   "id": "dc90406e",
   "metadata": {},
   "source": [
    "https://nominatim.openstreetmap.org/reverse?lat=-34.5919018&lon=-58.3844548&format=json&addressdetails=1"
   ]
  },
  {
   "cell_type": "markdown",
   "id": "22dacf31",
   "metadata": {},
   "source": [
    "Ahora que tenemos las coordenadas, cómo podríamos calcular la distancia entre ellos?"
   ]
  },
  {
   "cell_type": "code",
   "execution_count": 22,
   "id": "1ed66833",
   "metadata": {},
   "outputs": [
    {
     "name": "stdout",
     "output_type": "stream",
     "text": [
      "Defaulting to user installation because normal site-packages is not writeable\n",
      "Requirement already satisfied: geopy in c:\\users\\jpy\\appdata\\roaming\\python\\python312\\site-packages (2.4.1)\n",
      "Requirement already satisfied: geographiclib<3,>=1.52 in c:\\users\\jpy\\appdata\\roaming\\python\\python312\\site-packages (from geopy) (2.1)\n"
     ]
    }
   ],
   "source": [
    "!pip install geopy"
   ]
  },
  {
   "cell_type": "code",
   "execution_count": 21,
   "id": "d48f1003",
   "metadata": {},
   "outputs": [
    {
     "name": "stdout",
     "output_type": "stream",
     "text": [
      "Distancia: 2.80 km\n"
     ]
    }
   ],
   "source": [
    "from geopy.distance import distance\n",
    "\n",
    "UADE_MONTSERRAT = (-34.6170769, -58.3822460)  # UADE Montserrat\n",
    "UADE_RECOLETA = (-34.5919018, -58.3844548)  # UADE Recoleta\n",
    "\n",
    "dist = distance(UADE_MONTSERRAT, UADE_RECOLETA).km\n",
    "print(f\"Distancia: {dist:.2f} km\")\n"
   ]
  },
  {
   "cell_type": "markdown",
   "id": "54e39189",
   "metadata": {},
   "source": [
    "Comparar con Google Maps y comentar los resultados."
   ]
  },
  {
   "cell_type": "markdown",
   "id": "7a8fd543",
   "metadata": {},
   "source": [
    "# Analizar el JSON que retorna OSM\n",
    "Cuando hacemos una petición a la API de OSM para obtener la dirección o las coordenadas geográficas, identificar las claves de interés.\n",
    "<br>\n",
    "\n",
    "* Cuando hago la petición de la dirección, que claves contienen la latitud y la longitud?\n",
    "* Cuando hago la petición de las coordenadas geográficas, que claves contienen la dirección?"
   ]
  },
  {
   "cell_type": "markdown",
   "id": "4c7dc778",
   "metadata": {},
   "source": [
    "# Consumir una API desde Python"
   ]
  },
  {
   "cell_type": "markdown",
   "id": "e0cecf5a",
   "metadata": {},
   "source": [
    "Podés hacer peticiones a la API de OpenStreetMap (Nominatim) directamente desde Python usando el módulo `requests`. Veamos un ejemplo:"
   ]
  },
  {
   "cell_type": "code",
   "execution_count": 23,
   "id": "a0022290",
   "metadata": {},
   "outputs": [
    {
     "name": "stdout",
     "output_type": "stream",
     "text": [
      "Defaulting to user installation because normal site-packages is not writeable\n",
      "Requirement already satisfied: requests in c:\\users\\jpy\\appdata\\roaming\\python\\python312\\site-packages (2.32.5)\n",
      "Requirement already satisfied: charset_normalizer<4,>=2 in c:\\users\\jpy\\appdata\\roaming\\python\\python312\\site-packages (from requests) (3.4.4)\n",
      "Requirement already satisfied: idna<4,>=2.5 in c:\\users\\jpy\\appdata\\roaming\\python\\python312\\site-packages (from requests) (3.11)\n",
      "Requirement already satisfied: urllib3<3,>=1.21.1 in c:\\users\\jpy\\appdata\\roaming\\python\\python312\\site-packages (from requests) (2.5.0)\n",
      "Requirement already satisfied: certifi>=2017.4.17 in c:\\users\\jpy\\appdata\\roaming\\python\\python312\\site-packages (from requests) (2025.10.5)\n"
     ]
    }
   ],
   "source": [
    "!pip install requests"
   ]
  },
  {
   "cell_type": "code",
   "execution_count": 26,
   "id": "b29bc7a6",
   "metadata": {},
   "outputs": [
    {
     "name": "stdout",
     "output_type": "stream",
     "text": [
      "[{'place_id': 16630236, 'licence': 'Data © OpenStreetMap contributors, ODbL 1.0. http://osm.org/copyright', 'osm_type': 'way', 'osm_id': 190536039, 'lat': '-34.6170769', 'lon': '-58.3822460', 'class': 'amenity', 'type': 'university', 'place_rank': 30, 'importance': 0.37058414962053904, 'addresstype': 'amenity', 'name': 'UADE - Universidad Argentina de la Empresa', 'display_name': 'UADE - Universidad Argentina de la Empresa, 775, Lima, Monserrat, Buenos Aires, Comuna 1, Ciudad Autónoma de Buenos Aires, C1073AAO, Argentina', 'boundingbox': ['-34.6176093', '-34.6165502', '-58.3829921', '-58.3816861']}, {'place_id': 17719060, 'licence': 'Data © OpenStreetMap contributors, ODbL 1.0. http://osm.org/copyright', 'osm_type': 'node', 'osm_id': 5544288868, 'lat': '-34.6175888', 'lon': '-58.3824290', 'class': 'amenity', 'type': 'atm', 'place_rank': 30, 'importance': 8.279926756690345e-05, 'addresstype': 'amenity', 'name': 'Santander Río', 'display_name': 'Santander Río, 775, Lima, Monserrat, Buenos Aires, Comuna 1, Ciudad Autónoma de Buenos Aires, C1073AAO, Argentina', 'boundingbox': ['-34.6176388', '-34.6175388', '-58.3824790', '-58.3823790']}, {'place_id': 11856976, 'licence': 'Data © OpenStreetMap contributors, ODbL 1.0. http://osm.org/copyright', 'osm_type': 'way', 'osm_id': 872723704, 'lat': '-37.3481805', 'lon': '-59.1476018', 'class': 'place', 'type': 'house', 'place_rank': 30, 'importance': 9.99999999995449e-06, 'addresstype': 'place', 'name': '', 'display_name': '775, Lima, Tandil, Partido de Tandil, Buenos Aires, B7000GKN, Argentina', 'boundingbox': ['-37.3482305', '-37.3481305', '-59.1476518', '-59.1475518']}]\n",
      "Display name: UADE - Universidad Argentina de la Empresa, 775, Lima, Monserrat, Buenos Aires, Comuna 1, Ciudad Autónoma de Buenos Aires, C1073AAO, Argentina\n",
      "Latitud: -34.6170769\n",
      "Longitud: -58.3822460\n"
     ]
    }
   ],
   "source": [
    "import requests\n",
    "\n",
    "calle = \"Lima\"\n",
    "numero = \"775\"\n",
    "ciudad = \"Buenos Aires\"\n",
    "url = f\"https://nominatim.openstreetmap.org/search?q={calle + \" \" + numero + \" \" + ciudad}&format=json\"\n",
    "\n",
    "# Es buena práctica incluir un user-agent identificativo\n",
    "headers = {\"User-Agent\": \"MiAplicacionPython/1.0\"}\n",
    "\n",
    "respuesta = requests.get(url, headers=headers)\n",
    "data = respuesta.json()\n",
    "print(data)\n",
    "# Iteramos la lista de diccionarios y buscamos el mejor match\n",
    "for item in data:\n",
    "    if ciudad.strip().lower() in item['display_name'].lower():\n",
    "        print(f\"Display name: {item['display_name']}\")\n",
    "        print(f\"Latitud: {item['lat']}\")\n",
    "        print(f\"Longitud: {item['lon']}\")\n",
    "        break\n",
    "\n"
   ]
  },
  {
   "cell_type": "markdown",
   "id": "a222d5f1",
   "metadata": {},
   "source": [
    "# Ejercicio"
   ]
  },
  {
   "cell_type": "markdown",
   "id": "5b7647ca",
   "metadata": {},
   "source": [
    "## Consigna general"
   ]
  },
  {
   "cell_type": "markdown",
   "id": "92506207",
   "metadata": {},
   "source": [
    "1. Van a trabajar en los mismos grupos ya conformados\n",
    "2. Aceptar este <a href=\"https://classroom.github.com/a/VIF5vce8\">Github Classroom Assignment</a> se les va a crear un nuevo repositorio.\n",
    "3. Armar una App que calcule la distancia entre dos posiciones geográficas\n",
    "4. El usuario ingresa la dirección de la posición inicial y de la posición final\n",
    "5. Analizar los datos mínimos de la dirección que el usuario debe ingresar\n",
    "6. La App valida el ingreso de las direcciones y luego consulta la API de OSM para obtener las coordenadas (Lat - Lon)\n",
    "7. Pueden usar distance de geopy para calcular la distancia\n",
    "8. Mostrar en pantalla la distancia calculada"
   ]
  },
  {
   "cell_type": "markdown",
   "id": "c1ae30dd",
   "metadata": {},
   "source": [
    "## Requerimientos\n",
    "1. Cada grupo debe generar una lista con las funciones que se necesitan\n",
    "1. Generar a partir de la rama Main, una rama Develop\n",
    "1. Cada usuario genera, desde la rama Develop, su propia rama para el desarrollo de las funciones\n",
    "1. En la medida que avanzan, hagan push a Github y merge a la rama Develop\n",
    "1. Hagan pull a sus repos locales y corran el código\n",
    "1. La estructura de archivos debe contener una carpeta \"source\" y otra \"test\"\n",
    "1. \"source\" debe contener el archivo main.py y los archivos que consideren necesarios con los métodos/funciones a ser invocados\n",
    "1. Las funciones de capas inferiores, deben generar exceptions si no se cumple alguna regla del negocio\n",
    "1. Las funciones de capas superiores, deben usar manejo de exceptions para evitar que no se interrumpa el flujo del programa\n",
    "1. Las funciones deben contener Test Unitarios usando Pytest\n",
    "1. Una vez que completen el objetivo, mejorar el código para que el usuario ingrese además un codigo de usuario, y si las peticiones a la API son exitosas, persistir en un archivo JSON los siguientes datos: codigo de usuario, coordenadas geográficas, direcciones y distancias obtenidas y calculada, de manera de tener un historial de la actividad del usuario."
   ]
  }
 ],
 "metadata": {
  "kernelspec": {
   "display_name": "Python 3",
   "language": "python",
   "name": "python3"
  },
  "language_info": {
   "codemirror_mode": {
    "name": "ipython",
    "version": 3
   },
   "file_extension": ".py",
   "mimetype": "text/x-python",
   "name": "python",
   "nbconvert_exporter": "python",
   "pygments_lexer": "ipython3",
   "version": "3.12.7"
  }
 },
 "nbformat": 4,
 "nbformat_minor": 5
}
