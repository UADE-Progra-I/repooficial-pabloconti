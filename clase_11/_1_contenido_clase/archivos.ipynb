{
 "cells": [
  {
   "cell_type": "markdown",
   "id": "ba04efe4",
   "metadata": {},
   "source": [
    "# Apertura de archivos"
   ]
  },
  {
   "cell_type": "markdown",
   "id": "59009d97",
   "metadata": {},
   "source": [
    "Es posible leer / grabar archivos de texto en Python.\n",
    "<BR>\n",
    "* Los datos se almacenan como cadenas de caracteres, en diferentes formatos:  \n",
    "* separados por punto y coma, con columnas de ancho fijo, etc.\n",
    "* Pueden ser creados, visualizados o modificados por cualquier editor de texto: ○ Bloc de notas de Windows; Notepad++; Visual Studio Code; etc.\n",
    "* No tienen formato: texto plano.\n",
    "* Cada línea o renglón constituye un registro.\n",
    "* La longitud es variable.\n",
    "* Utiliza un delimitador, \\n por ejemplo para indicar salto de linea."
   ]
  },
  {
   "cell_type": "markdown",
   "id": "bcac9ef2",
   "metadata": {},
   "source": [
    "Sintáxis para la apertura de archivos:\n",
    "<BR>\n",
    "<BR>\n",
    "`variable = open(file, mode)`\n",
    "<BR>\n",
    "* `variable`: nombre de la variable que contendrá la referencia al archivo de texto.\n",
    "* `open`: función que retorna un objeto de tipo Archivo.\n",
    "* `file`: indica el nombre del archivo de texto, puede contener la ruta donde se encuentra. Cuidar la secuencia de escape por el uso de `\\`.\n",
    "* `mode`: indica el modo de apertura del archivo, por default es modo lectura de un archivo de texto.\n"
   ]
  },
  {
   "cell_type": "markdown",
   "id": "9d151123",
   "metadata": {},
   "source": [
    "## Modos admitidos en open()\n",
    "* \"r\" Leer - No crea el archivo si no existe / No borra contenido previo\n",
    "* \"w\" Escribir (sobrescribe) - Crea el archivo si no existe / Borra contenido previo\n",
    "* \"a\" Agregar (append) -  Crea el archivo si no existe / No borra contenido previo\n",
    "* \"r+\" Leer y escribir (sin borrar) - No crea el archivo si no existe / No borra contenido previo\n",
    "* \"w+ \" Leer y escribir (borrando el contenido) - Crea el archivo si no existe / Borra contenido previo\n",
    "* \"a+\" Leer y escribir (agregando al final) -  Crea el archivo si no existe / No borra contenido previo"
   ]
  },
  {
   "cell_type": "markdown",
   "id": "5b8a0107",
   "metadata": {},
   "source": [
    "## Manejo de rutas\n",
    "Si no se incluye ruta al archivo, se busca en la misma carpeta donde se encuentra el programa.\n",
    "<BR>\n",
    "En esta instrucción, la ruta es inválida: `file = open(\"data\\notas.txt\", \"r\")`, dado el salto de línea (\"\\n\") incluido en ella. Para evitar este error tenemos 3 posibilidades:\n",
    "* Usar doble barra invertida: La doble contrabarra es también una secuencia de escape que representa a una sola barra invertida:\n",
    "<BR>`file = open(\"data\\\\notas.txt\", \"r\")`\n",
    "* Usar una sola barra normal: \n",
    "<BR>\n",
    "`file = open(\"data/notas.txt\", \"r\")`\n",
    "* Declarar la cadena como cruda: es una cadena de texto en la que los caracteres de escape no se interpretan como caracteres especiales, sino que se tratan como caracteres literales:\n",
    "<BR>`file = open(r\"data\\notas.txt\", \"r\")`\n"
   ]
  },
  {
   "cell_type": "code",
   "execution_count": null,
   "id": "5683e6b9",
   "metadata": {},
   "outputs": [],
   "source": [
    "# Abrir el archivo data/notas.txt\n",
    "file = open(\"data/notas.txt\", \"r\")\n",
    "contenido = file.read()\n",
    "print(contenido)"
   ]
  },
  {
   "cell_type": "markdown",
   "id": "4ec254ca",
   "metadata": {},
   "source": [
    "# Cierre de archivos"
   ]
  },
  {
   "cell_type": "markdown",
   "id": "a94a8e75",
   "metadata": {},
   "source": [
    "Veamos porque es una buena práctica cerrar los archivos luego de acceder a ellos:\n",
    "<BR>\n",
    "Cuando abrís un archivo, usas recursos del sistema, el OS reserva:\n",
    "* Un descriptor de archivo (file handle)\n",
    "* Un bloque de memoria para el buffer de lectura/escritura\n",
    "* Y un enlace activo entre tu programa y el archivo físico en disco.\n",
    "\n",
    "Si no lo cerrás, esos recursos quedan ocupados hasta que el programa termina — o hasta que el recolector de basura los libere (lo que no siempre pasa enseguida).\n",
    "<BR>\n",
    "Si no cerramos el archivo, podrían darse las siguientes situaciones:\n",
    "* Bloqueo de archivos: En algunos sistemas (Windows especialmente), el archivo queda bloqueado: no podés borrarlo o abrirlo desde otro programa.\n",
    "* Memory Leak: Si abrís muchos archivos sin cerrar, el programa usa más memoria y puede quedarse sin descriptores.\n",
    "* Datos no guardados: En modo escritura (\"w\" o \"a\"), el contenido se guarda primero en un buffer. Si no se cierra el archivo, puede que el buffer nunca se vacíe y los datos no se escriban en disco.\n",
    "* Comportamientos impredecibles: Algunas funciones que esperan que el archivo esté cerrado (como os.remove() o shutil.move()) pueden fallar.\n",
    "\n",
    "Para cerrar el archivo usamos el método `close`\n",
    "<BR>\n",
    "* Vacía los buffers (garantizando que todo lo que escribiste se guarde).\n",
    "* Libera el descriptor de archivo.\n",
    "* Rompe el vínculo entre el archivo y tu programa.\n"
   ]
  },
  {
   "cell_type": "code",
   "execution_count": null,
   "id": "8bbfb309",
   "metadata": {},
   "outputs": [],
   "source": [
    "# Abrir el archivo data/notas.txt\n",
    "file = open(r\"data\\notas.txt\", \"r\")\n",
    "contenido = file.read()\n",
    "print(contenido)\n",
    "\n",
    "# Cerrar el archivo data/notas.txt\n",
    "file.close()\n"
   ]
  },
  {
   "cell_type": "markdown",
   "id": "1180ea08",
   "metadata": {},
   "source": [
    "# Manejo de excepciones con archivos"
   ]
  },
  {
   "cell_type": "markdown",
   "id": "b4b85a33",
   "metadata": {},
   "source": [
    "Si Python no puede abrir o cerrar el archivo, o algunas de las operaciones sobre el archivo no pueden realizarse se generarán excepciones que interrumpen el flujo normal del programa. Veamos como aplicar el bloque try/except/finally para manejar futuros errores."
   ]
  },
  {
   "cell_type": "code",
   "execution_count": null,
   "id": "4cee04bb",
   "metadata": {},
   "outputs": [],
   "source": [
    "# Mejoramos la apertura y el cierre del archivo con try/except/finally\n",
    "try:\n",
    "    file = open(\"data/notas.txt\", \"r\")\n",
    "    contenido = file.read()\n",
    "    print(contenido)\n",
    "except Exception as e:\n",
    "    print(f\"Error: {e}\")\n",
    "finally:\n",
    "    file.close()"
   ]
  },
  {
   "cell_type": "markdown",
   "id": "cba6c566",
   "metadata": {},
   "source": [
    "Si bien poner la instrucción file.close() en el finallly es lo mas razonable, ya que es una acción que siempre debe realizarse, en caso que el archivo no pueda abrirse, la acción file.close() generará una exception. Analicemos algunas maneras de evitarlo:"
   ]
  },
  {
   "cell_type": "code",
   "execution_count": null,
   "id": "43a9682a",
   "metadata": {},
   "outputs": [],
   "source": [
    "import os\n",
    "print(os.getcwd())"
   ]
  },
  {
   "cell_type": "code",
   "execution_count": null,
   "id": "3358e5b6",
   "metadata": {},
   "outputs": [],
   "source": [
    "file = None  # inicializamos la variable\n",
    "\n",
    "try:\n",
    "    file = open(r\"data\\notas.txt\", \"r\", encoding=\"utf-8\")\n",
    "    contenido = file.read()\n",
    "    print(contenido)\n",
    "except Exception as e:\n",
    "    print(f\"Error Try: {e}\")\n",
    "finally:\n",
    "    if file is not None:\n",
    "        file.close()\n"
   ]
  },
  {
   "cell_type": "code",
   "execution_count": null,
   "id": "e518ee2f",
   "metadata": {},
   "outputs": [],
   "source": [
    "# O podemos incluso envolver file.close() en un bloque try/except\n",
    "try:\n",
    "    file = open(r\"data\\notas.txt\", \"r\")\n",
    "    contenido = file.read()\n",
    "    print(contenido)\n",
    "except Exception as e:\n",
    "    print(f\"Error Try: {e}\")\n",
    "finally:\n",
    "    try:\n",
    "        file.close()\n",
    "    except Exception as e:\n",
    "        print(f\"Error Finally: {e}\")"
   ]
  },
  {
   "cell_type": "markdown",
   "id": "b032e916",
   "metadata": {},
   "source": [
    "# Introducción a `with`"
   ]
  },
  {
   "cell_type": "markdown",
   "id": "541d06c0",
   "metadata": {},
   "source": [
    "Si ocurre un error entre el open() y el close(), por ejemplo un ValueError, el close() nunca se ejecuta y el archivo queda abierto en memoria.\n",
    "Aunque podemos usar try / finally para forzar el cierre, vimos que este patrón funciona, pero es largo, repetitivo y propenso a errores si se olvida el finally."
   ]
  },
  {
   "cell_type": "markdown",
   "id": "6387f85f",
   "metadata": {},
   "source": [
    "## Sintaxis de `with`"
   ]
  },
  {
   "cell_type": "code",
   "execution_count": null,
   "id": "7ebee149",
   "metadata": {},
   "outputs": [],
   "source": [
    "with open(\"data/notas.txt\", \"r\", encoding=\"utf-8\") as file:\n",
    "    contenido = file.read()\n",
    "    print(contenido)"
   ]
  },
  {
   "cell_type": "markdown",
   "id": "3f243c06",
   "metadata": {},
   "source": [
    "¿Qué hace Python internamente?\n",
    "\n",
    "* Llama a open(\"data/notas.txt, \"r\") y guarda el archivo en la variable file\n",
    "* Ejecuta el bloque indentado (las líneas dentro del with)\n",
    "* Cuando el bloque termina — ya sea con éxito o por un error — llama automáticamente a file.close()"
   ]
  },
  {
   "cell_type": "markdown",
   "id": "fd712605",
   "metadata": {},
   "source": [
    "Nota: `encoding='utf-8'` le indica a Python que lea los caracteres como si estuvieran codificados en el formato UTF-8. <BR> \n",
    "UTF-8 (Unicode Transformation Format – 8 bits) es el estándar más usado actualmente en todo el mundo.\n",
    "Permite representar letras acentuadas, eñes, símbolos, emojis, y caracteres de otros idiomas (como chino o japonés)."
   ]
  },
  {
   "cell_type": "markdown",
   "id": "cde88acf",
   "metadata": {},
   "source": [
    "# Escritura de archvios"
   ]
  },
  {
   "cell_type": "code",
   "execution_count": null,
   "id": "30711cf1",
   "metadata": {},
   "outputs": [],
   "source": [
    "# Escritura de un archivo\n",
    "try:\n",
    "    with open(\"data/notas.txt\", \"w\") as file:\n",
    "        file.write(\"Nombre: Ana\\nApellido: Kunst\\n\")\n",
    "        file.write(\"Nota: 8\\n\")\n",
    "        file.write(\"Edad: 22\\n\")\n",
    "except Exception as e:\n",
    "    print(e)\n",
    "\n",
    "    "
   ]
  },
  {
   "cell_type": "code",
   "execution_count": null,
   "id": "8b7dfa4b",
   "metadata": {},
   "outputs": [],
   "source": [
    "# Leemos a ver que cambió\n",
    "try:\n",
    "    with open(\"data/notas.txt\", \"r\") as file:\n",
    "        contenido = file.read()\n",
    "        print(contenido)\n",
    "except Exception as e:\n",
    "    print(e)\n",
    "\n",
    "    "
   ]
  },
  {
   "cell_type": "markdown",
   "id": "07393e89",
   "metadata": {},
   "source": [
    "Veamos algunos casos posibles de escritura de archivos, contenido, métodos y formato de archivos"
   ]
  },
  {
   "cell_type": "markdown",
   "id": "01adb97c",
   "metadata": {},
   "source": [
    "## Caso 1 - Lista de listas"
   ]
  },
  {
   "cell_type": "code",
   "execution_count": null,
   "id": "1a611be0",
   "metadata": {},
   "outputs": [],
   "source": [
    "# Proponemos la siguiente lista de listas\n",
    "estudiantes = [\n",
    "    [1, \"Thiago\", \"Almada\", 19],\n",
    "    [2, \"Agostina\", \"Hein\", 25],\n",
    "    [3, \"Leandro\", \"Bolmaro\", 22]\n",
    "]\n",
    "\n",
    "header = [\"id\", \"nombre\", \"apellido\"]"
   ]
  },
  {
   "cell_type": "markdown",
   "id": "409e018c",
   "metadata": {},
   "source": [
    "### Usando formato txt"
   ]
  },
  {
   "cell_type": "code",
   "execution_count": null,
   "id": "8639d80a",
   "metadata": {},
   "outputs": [],
   "source": [
    "# Escribimos la lista de estudiantes en el archivo txt_estudiantes.txt\n",
    "with open(\"data/txt_estudiantes.txt\", \"w\", encoding=\"utf-8\") as file:\n",
    "    for e in estudiantes:\n",
    "        # file.write(str(e)+\"\\n\")\n",
    "        file.write(f\"{e[0]}, {e[1]}, {e[2]}, {e[3]}\\n\")\n",
    "\n"
   ]
  },
  {
   "cell_type": "code",
   "execution_count": null,
   "id": "ed2386db",
   "metadata": {},
   "outputs": [],
   "source": [
    "# Leemos y mostramos el contenido\n",
    "with open(\"data/txt_estudiantes.txt\", \"r\", encoding=\"utf-8\") as file:\n",
    "    contenido = file.read()\n",
    "    print(contenido)"
   ]
  },
  {
   "cell_type": "markdown",
   "id": "27111edc",
   "metadata": {},
   "source": [
    "Ventajas:\n",
    "* Simple de crear y leer manualmente.\n",
    "* Ideal para texto sin estructura compleja.\n",
    "<BR>\n",
    "\n",
    "Desventajas:\n",
    "* No tiene encabezados.\n",
    "* No hay estructura formal (cada línea hay que “parsearla” al leerla)."
   ]
  },
  {
   "cell_type": "markdown",
   "id": "65764110",
   "metadata": {},
   "source": [
    "### Usando formato csv"
   ]
  },
  {
   "cell_type": "code",
   "execution_count": 183,
   "id": "a662a9be",
   "metadata": {},
   "outputs": [],
   "source": [
    "import csv\n",
    "\n",
    "with open(\"data/csv_estudiantes.csv\", \"w\", newline=\"\", encoding=\"utf-8\") as file:\n",
    "    writer = csv.writer(file)\n",
    "    # writer.writerow(header)  # encabezado\n",
    "    writer.writerows(estudiantes)  # body"
   ]
  },
  {
   "cell_type": "code",
   "execution_count": 180,
   "id": "5f9e9e23",
   "metadata": {},
   "outputs": [
    {
     "name": "stdout",
     "output_type": "stream",
     "text": [
      "['id', 'nombre', 'apellido']\n",
      "['1', 'Thiago', 'Almada', '19']\n",
      "['2', 'Agostina', 'Hein', '25']\n",
      "['3', 'Leandro', 'Bolmaro', '22']\n"
     ]
    }
   ],
   "source": [
    "# Leemos y mostramos el contenido\n",
    "with open(\"data/csv_estudiantes.csv\", \"r\", encoding=\"utf-8\") as file:\n",
    "    contenido = csv.reader(file)\n",
    "    for fila in contenido:\n",
    "        print(fila)"
   ]
  },
  {
   "cell_type": "code",
   "execution_count": 184,
   "id": "a32b9633",
   "metadata": {},
   "outputs": [],
   "source": [
    "# Recordemos que también podemos insertar una row al final\n",
    "with open(\"data/csv_estudiantes.csv\", \"a\", newline=\"\", encoding=\"utf-8\") as file:\n",
    "    writer = csv.writer(file)\n",
    "    writer.writerow([4, \"Valentina\", \"Raposo\"]) # body"
   ]
  },
  {
   "cell_type": "markdown",
   "id": "1b1140af",
   "metadata": {},
   "source": [
    "Ventajas:\n",
    "* Formato estándar e intercambiable (Excel, Google Sheets, Pandas).\n",
    "* Fácil de leer y escribir con el módulo csv.\n",
    "* Ideal para listas de listas.\n",
    "\n",
    "<BR>\n",
    "Desventajas:\n",
    "* Solo almacena texto (no tipos complejos como listas anidadas o diccionarios)."
   ]
  },
  {
   "cell_type": "markdown",
   "id": "931b6747",
   "metadata": {},
   "source": [
    "## Caso 2 - Lista de diccionarios"
   ]
  },
  {
   "cell_type": "code",
   "execution_count": 185,
   "id": "ed1c6546",
   "metadata": {},
   "outputs": [],
   "source": [
    "estudiantes = [\n",
    "    {\"id\": 1, \"nombre\": \"Thiago\", \"apellido\": \"Almada\"},\n",
    "    {\"id\": 2, \"nombre\": \"Agostina\", \"apellido\": \"Hein\"},\n",
    "    {\"id\": 3, \"nombre\": \"Leandro\", \"apellido\": \"Bolmaro\"},\n",
    "    {\"id\": 4, \"nombre\": \"Valentina\", \"apellido\": \"Raposo\"},\n",
    "]"
   ]
  },
  {
   "cell_type": "markdown",
   "id": "985aeb5b",
   "metadata": {},
   "source": [
    "### Usando formato json"
   ]
  },
  {
   "cell_type": "code",
   "execution_count": 187,
   "id": "69d71b61",
   "metadata": {},
   "outputs": [],
   "source": [
    "import json\n",
    "\n",
    "# Crear y escribir el archivo JSON\n",
    "with open(\"data/estudiantes.json\", \"w\", encoding=\"utf-8\") as f:\n",
    "    json.dump(estudiantes, f, indent=5, ensure_ascii=False)"
   ]
  },
  {
   "cell_type": "code",
   "execution_count": null,
   "id": "9ac0cc73",
   "metadata": {},
   "outputs": [],
   "source": [
    "import json\n",
    "\n",
    "# Abrir y leer el archivo JSON\n",
    "with open(\"data/estudiantes.json\", \"r\", encoding=\"utf-8\") as f:\n",
    "    datos = json.load(f)\n",
    "    for e in datos:    \n",
    "        print(e)"
   ]
  },
  {
   "cell_type": "markdown",
   "id": "fb1fcfc8",
   "metadata": {},
   "source": [
    "`ensure_ascii=True`\tConvierte todos los caracteres fuera del ASCII (0–127) a secuencias \\uXXXX.\n",
    "<BR>\n",
    "\n",
    "`ensure_ascii=False` Mantiene los caracteres originales tal como están (recomendado si usás encoding=\"utf-8\")."
   ]
  },
  {
   "cell_type": "code",
   "execution_count": 188,
   "id": "2720c309",
   "metadata": {},
   "outputs": [],
   "source": [
    "clientes = [\n",
    "    {\"nombre\": \"Oscar\", \"emoji\": \"😊\"}\n",
    "]"
   ]
  },
  {
   "cell_type": "code",
   "execution_count": 191,
   "id": "c130a6c4",
   "metadata": {},
   "outputs": [],
   "source": [
    "import json\n",
    "\n",
    "# Crear y escribir el archivo JSON\n",
    "with open(\"data/clientes.json\", \"w\", encoding=\"utf-8\") as f:\n",
    "    json.dump(clientes, f, indent=3, ensure_ascii=True)"
   ]
  },
  {
   "cell_type": "code",
   "execution_count": 190,
   "id": "6c41ade3",
   "metadata": {},
   "outputs": [
    {
     "name": "stdout",
     "output_type": "stream",
     "text": [
      "{'nombre': 'Oscar', 'emoji': '😊'}\n"
     ]
    }
   ],
   "source": [
    "# Abrir y leer el archivo JSON\n",
    "with open(\"data/clientes.json\", \"r\", encoding=\"utf-8\") as f:\n",
    "    datos = json.load(f)\n",
    "    for e in datos:    \n",
    "        print(e)"
   ]
  },
  {
   "cell_type": "markdown",
   "id": "ae05dc08",
   "metadata": {},
   "source": [
    "Recomendación:\n",
    "<BR>\n",
    "\n",
    "* Archivos JSON con texto en español (ñ, á, é, í, ó, ú) => ensure_ascii=False\n",
    "* Comunicación con APIs que solo aceptan ASCII puro => ensure_ascii=True\n",
    "* Guardar datos legibles por humanos => ensure_ascii=False"
   ]
  }
 ],
 "metadata": {
  "kernelspec": {
   "display_name": "Python 3",
   "language": "python",
   "name": "python3"
  },
  "language_info": {
   "codemirror_mode": {
    "name": "ipython",
    "version": 3
   },
   "file_extension": ".py",
   "mimetype": "text/x-python",
   "name": "python",
   "nbconvert_exporter": "python",
   "pygments_lexer": "ipython3",
   "version": "3.12.7"
  }
 },
 "nbformat": 4,
 "nbformat_minor": 5
}
