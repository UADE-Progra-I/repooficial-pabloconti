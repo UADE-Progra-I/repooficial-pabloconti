{
  "cells": [
    {
      "cell_type": "markdown",
      "metadata": {
        "id": "Qb3vUHHUS8Vw"
      },
      "source": [
        "## Pruebas Unitarias"
      ]
    },
    {
      "cell_type": "markdown",
      "metadata": {
        "id": "H4C1jLGITAVG"
      },
      "source": [
        "Las pruebas unitarias (o unit tests) son pequeñas pruebas automatizadas que verifican el correcto funcionamiento de una unidad mínima de código, normalmente una función o un método.\n",
        "<BR>\n",
        "<BR>\n",
        "**Objetivo:**\n",
        "<BR>\n",
        "Detectar errores de manera temprana, antes de integrar los módulos en el sistema completo."
      ]
    },
    {
      "cell_type": "markdown",
      "metadata": {
        "id": "DmRnXtyHTSVq"
      },
      "source": [
        "Ventajas de usar pruebas unitarias\n",
        "\n",
        "* Aumentan la confianza en el código: si algo falla, se detecta enseguida.\n",
        "* Facilitan los cambios: al modificar código, las pruebas aseguran que lo anterior sigue funcionando.\n",
        "* Documentan el comportamiento esperado: los tests explican cómo debería responder una función.\n",
        "* Mejoran la calidad del software"
      ]
    },
    {
      "cell_type": "markdown",
      "metadata": {
        "id": "HE8U5HUqTdud"
      },
      "source": [
        "## El módulo `Pytest`"
      ]
    },
    {
      "cell_type": "markdown",
      "metadata": {
        "id": "I8i0jT2yTla4"
      },
      "source": [
        "Pytest es una librería externa (más moderna que unittest) que permite realizar pruebas unitarias de manera más simple, legible y potente.\n",
        "<BR>\n",
        "Sus principales ventajas son:\n",
        "\n",
        "* Sintaxis simple y clara: no requiere definir clases ni heredar de TestCase. Basta con crear funciones que comiencen con test_\n",
        "\n",
        "* Descubrimiento automático de pruebas: detecta y ejecuta automáticamente todos los archivos y funciones de prueba (test_*.py, test_*)\n",
        "\n",
        "* Ejecución rápida y reportes legibles: muestra resultados con mensajes claros y un formato visual agradable\n",
        "\n",
        "* Comparaciones enriquecidas (assert introspection): cuando una prueba falla, muestra exactamente qué valores difieren, facilitando el diagnóstico del error\n",
        "\n",
        "* Soporte para pruebas parametrizadas y fixtures: permite ejecutar la misma prueba con distintos datos o preparar entornos de prueba reutilizables de manera muy flexible"
      ]
    },
    {
      "cell_type": "markdown",
      "metadata": {
        "id": "k_wbTEdPa5Kw"
      },
      "source": [
        "## Instalación de la librería"
      ]
    },
    {
      "cell_type": "markdown",
      "metadata": {
        "id": "9NrCgRBtiJB1"
      },
      "source": [
        "```\n",
        "pip install pytest\n",
        "```"
      ]
    },
    {
      "cell_type": "markdown",
      "metadata": {
        "id": "_gG-Mi4Qh7-S"
      },
      "source": [
        "Validar la versión instalada\n",
        "\n",
        "\n",
        "\n",
        "\n",
        "\n",
        "\n"
      ]
    },
    {
      "cell_type": "markdown",
      "metadata": {
        "id": "kZnpcQsviNHZ"
      },
      "source": [
        "```\n",
        "python -m pytest --version\n",
        "pytest 8.4.2\n",
        "```"
      ]
    },
    {
      "cell_type": "markdown",
      "metadata": {
        "id": "iEejWCDBbLGB"
      },
      "source": [
        "## Organización típica del proyecto"
      ]
    },
    {
      "cell_type": "markdown",
      "metadata": {
        "id": "3WiECDjyAtzK"
      },
      "source": [
        "Se sugiere seguir esta organización, con una carpeta para los archivos que contienen las funciones/métodos, en este caso llamadas source, y otra para los archivos que contienen las funciones, en este caso tests.\n",
        "<BR>\n",
        "Notar que source contiene un archivo con el nombre `__init__.py` el cual es un archivo sin contenido, que lo agregamos para convertir a source en un módulo importable.\n",
        "<BR>\n",
        "Por otra parte, notar además el archivo `test_metodos.py`, este contiene las funciones que queremos evaluar con pytest, por lo que también debe comenzar con **test_** para que la librería los detecte."
      ]
    },
    {
      "cell_type": "code",
      "execution_count": null,
      "metadata": {
        "id": "tjhgD9k0bGzt"
      },
      "outputs": [],
      "source": [
        "\"\"\"\n",
        "├── source/\n",
        "│   ├── __init__.py <<< vacio, convierte a source en un paquete importable\n",
        "│   ├── metodos.py\n",
        "│   └── main.py\n",
        "└── tests/\n",
        "    └── test_metodos.py\n",
        "\"\"\""
      ]
    },
    {
      "cell_type": "markdown",
      "metadata": {
        "id": "AlH5EQfBT7qS"
      },
      "source": [
        "## Estructura básica de un test con Pytest"
      ]
    },
    {
      "cell_type": "markdown",
      "metadata": {
        "id": "XNIsXS_kVGb8"
      },
      "source": [
        "Los tests son simplemente funciones que comienzan con test_ y usan asserts de Python."
      ]
    },
    {
      "cell_type": "code",
      "execution_count": null,
      "metadata": {
        "id": "5gXGzrDnVM2G"
      },
      "outputs": [],
      "source": [
        "# Declaro una función que suma dos números\n",
        "def sumar(a,b):\n",
        "  return a+b"
      ]
    },
    {
      "cell_type": "code",
      "execution_count": null,
      "metadata": {
        "id": "xzij9HWsVJ6m"
      },
      "outputs": [],
      "source": [
        "# Declaro la función de testing de sumar\n",
        "def test_sumar():\n",
        "    assert sumar(2, 3) == 5\n",
        "    assert sumar(-1, 1) == 0\n",
        "    assert sumar(0, 0) == 0\n",
        "\n",
        "# La cantidad y la definición de cada assert la deciden ustedes"
      ]
    },
    {
      "cell_type": "markdown",
      "metadata": {
        "id": "2WLz4gzKbUHU"
      },
      "source": [
        "## Ejemplo con excepciones y condiciones"
      ]
    },
    {
      "cell_type": "markdown",
      "metadata": {
        "id": "ja2OBBWoN5TS"
      },
      "source": [
        "Generamos la función dividir que retorna el cociente entre 2 números"
      ]
    },
    {
      "cell_type": "code",
      "execution_count": null,
      "metadata": {
        "id": "LfsVwNBiN_lQ"
      },
      "outputs": [],
      "source": [
        "%%writefile funciones.py\n",
        "\n",
        "def dividir(a,b):\n",
        "  return a/b"
      ]
    },
    {
      "cell_type": "markdown",
      "metadata": {
        "id": "fBJe92HPOCPT"
      },
      "source": [
        "Mejoramos ahora la función dividir, de manera que si el denominador es 0, genere ValueError exception"
      ]
    },
    {
      "cell_type": "code",
      "execution_count": null,
      "metadata": {
        "colab": {
          "base_uri": "https://localhost:8080/"
        },
        "id": "DV1tqC79DHt4",
        "outputId": "eb5a9283-ea6d-4358-ed47-24d949c63a20"
      },
      "outputs": [],
      "source": [
        "%%writefile funciones.py\n",
        "\n",
        "def dividir(a,b):\n",
        "  if b == 0:\n",
        "    raise ValueError(\"No se puede dividir por cero\")\n",
        "  return a/b"
      ]
    },
    {
      "cell_type": "markdown",
      "metadata": {
        "id": "9F970s9EOMXB"
      },
      "source": [
        "Podemos además agregar validación en caso que reciba como argumentos str en lugar de int/float"
      ]
    },
    {
      "cell_type": "code",
      "execution_count": null,
      "metadata": {
        "id": "NxEYX_NBNsp3"
      },
      "outputs": [],
      "source": [
        "%%writefile funciones.py\n",
        "\n",
        "def dividir(a, b):\n",
        "    if not isinstance(a, (int, float)):\n",
        "        raise TypeError(\"El primer argumento debe ser numérico (int o float).\")\n",
        "    if not isinstance(b, (int, float)):\n",
        "        raise TypeError(\"El segundo argumento debe ser numérico (int o float).\")\n",
        "    if b == 0:\n",
        "        raise ValueError(\"No se puede dividir por cero.\")\n",
        "    return a/b\n"
      ]
    },
    {
      "cell_type": "markdown",
      "metadata": {
        "id": "jYus3WlNbYtk"
      },
      "source": [
        "Armamos un test para validar que dividir retorne el cociente entre a/b"
      ]
    },
    {
      "cell_type": "code",
      "execution_count": null,
      "metadata": {
        "colab": {
          "base_uri": "https://localhost:8080/"
        },
        "id": "an19hyIAEPCT",
        "outputId": "39316435-111c-4eeb-87ea-ece011907527"
      },
      "outputs": [],
      "source": [
        "%%writefile test_funciones.py\n",
        "\n",
        "from funciones import dividir\n",
        "import pytest\n",
        "\n",
        "def test_dividir():\n",
        "    resultado = dividir(10, 1)\n",
        "    assert resultado == 1\n"
      ]
    },
    {
      "cell_type": "markdown",
      "metadata": {
        "id": "3-mPZAZiOyct"
      },
      "source": [
        "Luego armamos el test para validar que dividir genera ZeroDivisionError cuando recibe 0 como denominador"
      ]
    },
    {
      "cell_type": "code",
      "execution_count": null,
      "metadata": {
        "colab": {
          "base_uri": "https://localhost:8080/"
        },
        "id": "rRvrlnfTbYba",
        "outputId": "1a852231-4af6-4457-f836-e00e839b2fef"
      },
      "outputs": [],
      "source": [
        "%%writefile test_funciones.py\n",
        "\n",
        "from funciones import dividir\n",
        "import pytest\n",
        "\n",
        "def test_dividir():\n",
        "    resultado = dividir(10, 1)\n",
        "    assert resultado == 1\n",
        "\n",
        "def test_dividir_por_cero():\n",
        "    with pytest.raises(ValueError):\n",
        "        dividir(10, 0)\n"
      ]
    },
    {
      "cell_type": "markdown",
      "metadata": {
        "id": "TFjNpvelO7dy"
      },
      "source": [
        "Y finalmente, validamos que dividir retorna TypeError"
      ]
    },
    {
      "cell_type": "code",
      "execution_count": null,
      "metadata": {
        "id": "wGTR7WvHPLMc"
      },
      "outputs": [],
      "source": [
        "%%writefile test_funciones.py\n",
        "\n",
        "from funciones import dividir\n",
        "import pytest\n",
        "\n",
        "def test_dividir():\n",
        "    resultado = dividir(10, 1)\n",
        "    assert resultado == 10\n",
        "\n",
        "def test_dividir_por_cero():\n",
        "    with pytest.raises(ValueError):\n",
        "        dividir(10, 0)\n",
        "        \n",
        "def test_dividir_str():\n",
        "    with pytest.raises(TypeError):\n",
        "        dividir(\"2\",\"4\")\n"
      ]
    },
    {
      "cell_type": "code",
      "execution_count": null,
      "metadata": {
        "colab": {
          "base_uri": "https://localhost:8080/"
        },
        "id": "4Lsj4AxXDQER",
        "outputId": "e5708a27-9a6a-4673-ec3a-b2a182548c58"
      },
      "outputs": [],
      "source": [
        "!python -m pytest -v"
      ]
    },
    {
      "cell_type": "markdown",
      "metadata": {
        "id": "LiO4W4bnbh01"
      },
      "source": [
        "## Pruebas parametrizadas"
      ]
    },
    {
      "cell_type": "markdown",
      "metadata": {
        "id": "rraPQD5vbkpo"
      },
      "source": [
        "Permiten probar varios casos en una sola función, sin repetir código:"
      ]
    },
    {
      "cell_type": "code",
      "execution_count": null,
      "metadata": {
        "id": "45ujU6Vkblv9"
      },
      "outputs": [],
      "source": [
        "import pytest\n",
        "from funciones import sumar\n",
        "\n",
        "@pytest.mark.parametrize(\"a, b, resultado\", [\n",
        "    (2, 3, 5),\n",
        "    (-1, 1, 0),\n",
        "    (10, 5, 15),\n",
        "])\n",
        "def test_sumar_parametrizado(a, b, resultado):\n",
        "    assert sumar(a, b) == resultado\n"
      ]
    },
    {
      "cell_type": "markdown",
      "metadata": {
        "id": "Kf0RRcczbnKT"
      },
      "source": [
        "## Uso de fixtures"
      ]
    },
    {
      "cell_type": "markdown",
      "metadata": {
        "id": "iIZJsGSzbo3L"
      },
      "source": [
        "Los fixtures permiten preparar datos o entornos de prueba antes de ejecutar los tests."
      ]
    },
    {
      "cell_type": "code",
      "execution_count": null,
      "metadata": {
        "id": "5GdNhS-Cbqcx"
      },
      "outputs": [],
      "source": [
        "import pytest\n",
        "from funciones import multiplicar\n",
        "\n",
        "@pytest.fixture\n",
        "def datos_basicos():\n",
        "    return [2, 3, 5]\n",
        "\n",
        "def test_multiplicar_lista(datos_basicos):\n",
        "    total = 1\n",
        "    for x in datos_basicos:\n",
        "        total *= x\n",
        "    assert total == multiplicar(2, 3, 5)\n"
      ]
    },
    {
      "cell_type": "markdown",
      "metadata": {
        "id": "02fB_s2fbr25"
      },
      "source": [
        "## Cómo ejecutar y analizar resultados"
      ]
    },
    {
      "cell_type": "markdown",
      "metadata": {
        "id": "xwqtaAApcErh"
      },
      "source": [
        "Ejecutar todos los tests:\n",
        "<BR>\n",
        "`pytest`\n",
        "<BR>\n",
        "`python -m pytest`"
      ]
    },
    {
      "cell_type": "markdown",
      "metadata": {
        "id": "pp_CQWtzcIKa"
      },
      "source": [
        "Ver resultados más detallados:\n",
        "<BR>\n",
        "`pytest -v`\n",
        "<BR>\n",
        "`python -m pytest -v`"
      ]
    },
    {
      "cell_type": "markdown",
      "metadata": {
        "id": "WsTH3yfbcNnK"
      },
      "source": [
        "## Buenas prácticas con Pytest"
      ]
    },
    {
      "cell_type": "markdown",
      "metadata": {
        "id": "Sjx2QzBKcQiF"
      },
      "source": [
        "* Nombrá los archivos y funciones con prefijo test_.\n",
        "\n",
        "* Cada test debe probar un solo comportamiento.\n",
        "\n",
        "* Usá fixtures o parametrize para evitar repetición.\n",
        "\n",
        "* No dependas de archivos externos ni del orden de ejecución.\n",
        "\n",
        "* Usá mensajes claros en los asserts si algo puede confundirse:"
      ]
    },
    {
      "cell_type": "markdown",
      "metadata": {
        "id": "n7elPi45cU0x"
      },
      "source": [
        "## Conclusión"
      ]
    },
    {
      "cell_type": "markdown",
      "metadata": {
        "id": "tmQO83oPcWYB"
      },
      "source": [
        "* Pytest facilita escribir pruebas simples y efectivas.\n",
        "* Ayuda a detectar errores temprano y mantener código limpio.\n",
        "* Fomenta la mentalidad de desarrollo profesional y responsable."
      ]
    }
  ],
  "metadata": {
    "colab": {
      "provenance": []
    },
    "kernelspec": {
      "display_name": "Python 3",
      "name": "python3"
    },
    "language_info": {
      "codemirror_mode": {
        "name": "ipython",
        "version": 3
      },
      "file_extension": ".py",
      "mimetype": "text/x-python",
      "name": "python",
      "nbconvert_exporter": "python",
      "pygments_lexer": "ipython3",
      "version": "3.12.7"
    }
  },
  "nbformat": 4,
  "nbformat_minor": 0
}
