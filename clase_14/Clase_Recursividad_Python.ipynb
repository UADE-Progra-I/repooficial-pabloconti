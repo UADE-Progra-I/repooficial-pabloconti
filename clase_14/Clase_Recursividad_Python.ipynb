{
 "cells": [
  {
   "cell_type": "markdown",
   "id": "f36a43b0",
   "metadata": {
    "id": "f36a43b0"
   },
   "source": [
    "# Recursividad en Python\n",
    "\n"
   ]
  },
  {
   "cell_type": "markdown",
   "id": "f8883e59",
   "metadata": {
    "id": "f8883e59"
   },
   "source": [
    "\n",
    "#Introducción teórica\n",
    "La **recursividad** es una técnica en la que una función se llama a sí misma para resolver un problema más pequeño del mismo tipo.\n",
    "\n",
    "Todo algoritmo recursivo debe tener dos partes esenciales:\n",
    "- **Caso base:** define cuándo detener la recursión.\n",
    "- **Caso recursivo:** descompone el problema en una versión más simple.\n",
    "\n"
   ]
  },
  {
   "cell_type": "markdown",
   "id": "5LNRxsCidV5V",
   "metadata": {
    "id": "5LNRxsCidV5V"
   },
   "source": [
    "# Analizamos el ejemplo del factorial presentado en los slides"
   ]
  },
  {
   "cell_type": "code",
   "execution_count": 3,
   "id": "BQNOVN1ndOrs",
   "metadata": {
    "id": "BQNOVN1ndOrs"
   },
   "outputs": [],
   "source": [
    "# Declaramos la función factorial\n",
    "def factorial (n):\n",
    "  if n == 0: # caso base\n",
    "    return 1\n",
    "  else:\n",
    "    return n * factorial(n-1) # caso recursivo"
   ]
  },
  {
   "cell_type": "code",
   "execution_count": 7,
   "id": "4tSNPnQKdmWm",
   "metadata": {
    "colab": {
     "base_uri": "https://localhost:8080/"
    },
    "executionInfo": {
     "elapsed": 17,
     "status": "ok",
     "timestamp": 1761984552618,
     "user": {
      "displayName": "Juan Pablo Rigotti",
      "userId": "00152857968777329382"
     },
     "user_tz": 180
    },
    "id": "4tSNPnQKdmWm",
    "outputId": "f959d8a0-3cf6-4feb-fc11-baebe73f0900"
   },
   "outputs": [
    {
     "data": {
      "text/plain": [
       "24"
      ]
     },
     "execution_count": 7,
     "metadata": {},
     "output_type": "execute_result"
    }
   ],
   "source": [
    "# Invocamos a la función factorial\n",
    "factorial(4)"
   ]
  },
  {
   "cell_type": "markdown",
   "id": "KDwNH1rsiMhk",
   "metadata": {
    "id": "KDwNH1rsiMhk"
   },
   "source": [
    "## Actividad\n",
    "Ejecutar la función factorial en modo Debug en VSCode, analizar las variables y el stack"
   ]
  },
  {
   "cell_type": "markdown",
   "id": "WDqzNcOKdttd",
   "metadata": {
    "id": "WDqzNcOKdttd"
   },
   "source": [
    "# Se admite el factorial de un número negativo?"
   ]
  },
  {
   "cell_type": "code",
   "execution_count": null,
   "id": "kW1MXfcZdzNg",
   "metadata": {
    "id": "kW1MXfcZdzNg"
   },
   "outputs": [],
   "source": [
    "# Invocamos a la función factorial con un argumento negativo\n",
    "factorial(-4)"
   ]
  },
  {
   "cell_type": "markdown",
   "id": "SWSY7wFymR21",
   "metadata": {
    "id": "SWSY7wFymR21"
   },
   "source": [
    "## Actividad\n",
    "Por defecto, Python limita la profundidad máxima de recursión a 1000 llamadas aproximadamente.\n",
    "Mejoremos la función factorial introduciendo manejo de excepciones"
   ]
  },
  {
   "cell_type": "markdown",
   "id": "KRxFctm8QG_Y",
   "metadata": {
    "id": "KRxFctm8QG_Y"
   },
   "source": [
    "# Tipos de funciones recursivas"
   ]
  },
  {
   "cell_type": "markdown",
   "id": "4WFzvp5bQLcm",
   "metadata": {
    "id": "4WFzvp5bQLcm"
   },
   "source": [
    "## Funciones recursivas que devuelven un valor"
   ]
  },
  {
   "cell_type": "markdown",
   "id": "QQIO49_eQXuf",
   "metadata": {
    "id": "QQIO49_eQXuf"
   },
   "source": [
    "Son las que devuelven un resultado al final del proceso recursivo.\n",
    "Cada llamada contribuye con un valor que se combina (por ejemplo, multiplicando, sumando, etc.) hasta obtener el resultado final.\n",
    "\n",
    "<BR>\n",
    "Ejemplo: factorial, fibonacci, suma_lista, potencia.\n",
    "\n",
    "Estas usan return porque cada llamada necesita enviar su resultado parcial a la anterior.\n",
    "\n",
    "```\n",
    "def funcion_recursiva(parametro):\n",
    "    if condicion_base:\n",
    "        return resultado\n",
    "    else:\n",
    "        return funcion_recursiva(parametro_modificado)\n",
    "```"
   ]
  },
  {
   "cell_type": "markdown",
   "id": "7cfd3826",
   "metadata": {},
   "source": [
    "numero = 4\n",
    "Sumatoria: 0 + 1 + 2 + 3 + 4 = 4 + 3 + 2 + 1 + 0\n",
    "Factorial: 1 * 2 * 3 * 4"
   ]
  },
  {
   "cell_type": "code",
   "execution_count": 10,
   "id": "mCrkFkrAQ-Ys",
   "metadata": {
    "executionInfo": {
     "elapsed": 10,
     "status": "ok",
     "timestamp": 1761987466397,
     "user": {
      "displayName": "Juan Pablo Rigotti",
      "userId": "00152857968777329382"
     },
     "user_tz": 180
    },
    "id": "mCrkFkrAQ-Ys"
   },
   "outputs": [],
   "source": [
    "def sumatoria(n):\n",
    "    if n == 0:\n",
    "        return 0 # caso base\n",
    "    else:\n",
    "        return n + sumatoria(n - 1) # caso recursivo\n"
   ]
  },
  {
   "cell_type": "code",
   "execution_count": 12,
   "id": "T1ZpkV0_RA-4",
   "metadata": {
    "colab": {
     "base_uri": "https://localhost:8080/"
    },
    "executionInfo": {
     "elapsed": 7,
     "status": "ok",
     "timestamp": 1761987467859,
     "user": {
      "displayName": "Juan Pablo Rigotti",
      "userId": "00152857968777329382"
     },
     "user_tz": 180
    },
    "id": "T1ZpkV0_RA-4",
    "outputId": "d2bb01ae-3768-45b3-b1e4-b4c4f4f58cdf"
   },
   "outputs": [
    {
     "name": "stdout",
     "output_type": "stream",
     "text": [
      "10\n"
     ]
    }
   ],
   "source": [
    "print(sumatoria(4))"
   ]
  },
  {
   "cell_type": "markdown",
   "id": "aP6c95UhQQlM",
   "metadata": {
    "id": "aP6c95UhQQlM"
   },
   "source": [
    "## Funciones recursivas que no retornan un valor"
   ]
  },
  {
   "cell_type": "markdown",
   "id": "N4Mf69LnRGyH",
   "metadata": {
    "id": "N4Mf69LnRGyH"
   },
   "source": [
    "También llamadas recursivas de procesamiento o de tipo procedimiento, su objetivo no es calcular un resultado, sino realizar una acción repetitiva, como imprimir datos, recorrer estructuras, o ejecutar pasos."
   ]
  },
  {
   "cell_type": "markdown",
   "id": "6fd51dab",
   "metadata": {},
   "source": [
    "cuenta_regresiva(4): 4, 3 , 2 , 1 , 0"
   ]
  },
  {
   "cell_type": "code",
   "execution_count": 13,
   "id": "yuR5LyTBPnEJ",
   "metadata": {
    "executionInfo": {
     "elapsed": 4,
     "status": "ok",
     "timestamp": 1761988391029,
     "user": {
      "displayName": "Juan Pablo Rigotti",
      "userId": "00152857968777329382"
     },
     "user_tz": 180
    },
    "id": "yuR5LyTBPnEJ"
   },
   "outputs": [],
   "source": [
    "# Desarrollar una función que simule una cuenta regresiva\n",
    "import time  # Importamos el módulo time\n",
    "\n",
    "def cuenta_regresiva(n):\n",
    "    if n == 0:\n",
    "        print(\"Lift off!\")\n",
    "    else:\n",
    "        print(n)\n",
    "        time.sleep(1)  # Espera 1 segundo antes de continuar\n",
    "        cuenta_regresiva(n - 1)"
   ]
  },
  {
   "cell_type": "code",
   "execution_count": 14,
   "id": "0BdYri9rRWwv",
   "metadata": {
    "colab": {
     "base_uri": "https://localhost:8080/"
    },
    "executionInfo": {
     "elapsed": 13,
     "status": "ok",
     "timestamp": 1761988392033,
     "user": {
      "displayName": "Juan Pablo Rigotti",
      "userId": "00152857968777329382"
     },
     "user_tz": 180
    },
    "id": "0BdYri9rRWwv",
    "outputId": "b3ed3354-af10-4b2a-c31f-17e6be79e2da"
   },
   "outputs": [
    {
     "name": "stdout",
     "output_type": "stream",
     "text": [
      "5\n",
      "4\n",
      "3\n",
      "2\n",
      "1\n",
      "Lift off!\n"
     ]
    }
   ],
   "source": [
    "cuenta_regresiva(5)"
   ]
  },
  {
   "cell_type": "markdown",
   "id": "m_lyIaDVxkQ5",
   "metadata": {
    "id": "m_lyIaDVxkQ5"
   },
   "source": [
    "**Starship Program**\n",
    "<BR>\n",
    "Starship es un sistema de lanzamiento de dos etapas (“megarocket”), compuesto por la primera etapa llamada Super Heavy y la segunda que se llama Starship (a veces “Ship” o “Ship n”).\n",
    "<BR>\n",
    "La idea es que ambas etapas sean reutilizables para reducir los costos de lanzamiento enormemente.\n",
    "\n",
    "[Starship Lift off](https://www.youtube.com/watch?v=K0NOSJF1RrA)"
   ]
  },
  {
   "cell_type": "markdown",
   "id": "ARzGt5hCv7oz",
   "metadata": {
    "id": "ARzGt5hCv7oz"
   },
   "source": [
    "**Proyecto educativo con Python in Space**\n",
    "[Astro Pi](https://astro-pi.org/mission-space-lab)\n",
    "[ESA Education](https://www.esa.int/Education/AstroPI/Registration_is_open_for_the_2025_2026_European_Astro_Pi_Challenge)"
   ]
  },
  {
   "cell_type": "markdown",
   "id": "1LxagQ4GSWnA",
   "metadata": {
    "id": "1LxagQ4GSWnA"
   },
   "source": [
    "# Recursividad vs iteraciones"
   ]
  },
  {
   "cell_type": "markdown",
   "id": "U8IKM3j8SeME",
   "metadata": {
    "id": "U8IKM3j8SeME"
   },
   "source": [
    "La recursividad es una técnica de programación, es un enfoque.\n",
    "* Un algoritmo recursivo no es mejor que uno iterativo, ni viceversa.\n",
    "* En cada situación será conveniente analizar cuál algoritmo provee la solución al\n",
    "problema de forma más simple y eficiente (menor costo posible)"
   ]
  },
  {
   "cell_type": "markdown",
   "id": "THEg4cwpSmkO",
   "metadata": {
    "id": "THEg4cwpSmkO"
   },
   "source": [
    "<!-- Contenedor responsivo para permitir scroll horizontal en pantallas chicas -->\n",
    "<div style=\"max-width:100%; overflow-x:auto\">\n",
    "\n",
    "  <table style=\"background-color:black;border-collapse:collapse; width:100%; font-family:system-ui, -apple-system, Segoe UI, Roboto, Arial, sans-serif; font-size:14px;\">\n",
    "    <thead>\n",
    "      <tr style=\"\">\n",
    "        <th style=\"text-align:left; padding:10px; border:1px solid #e5e7eb;\"></th>\n",
    "        <th style=\"text-align:left; padding:10px; border:1px solid #e5e7eb;\">Recursividad</th>\n",
    "        <th style=\"text-align:left; padding:10px; border:1px solid #e5e7eb;\">Iteración (bucles)</th>\n",
    "      </tr>\n",
    "    </thead>\n",
    "    <tbody>\n",
    "      <tr style=\"\">\n",
    "        <td style=\"padding:10px; border:1px solid #e5e7eb;\">Idea principal</td>\n",
    "        <td style=\"padding:10px; border:1px solid #e5e7eb;\">La función se llama a sí misma</td>\n",
    "        <td style=\"padding:10px; border:1px solid #e5e7eb; \">Se usa un bucle (for, while)</td>\n",
    "      </tr>\n",
    "      <tr style=\"\">\n",
    "        <td style=\"padding:10px; border:1px solid #e5e7eb;\">Más intuitivo para... </td>\n",
    "        <td style=\"padding:10px; border:1px solid #e5e7eb;\">Problemas que se pueden dividir\n",
    "naturalmente</td>\n",
    "        <td style=\"padding:10px; border:1px solid #e5e7eb; \">Procesos repetitivos con contador o\n",
    "acumulador</td>\n",
    "      </tr>\n",
    "      <tr style=\"\">\n",
    "        <td style=\"padding:10px; border:1px solid #e5e7eb;\">Condición de corte</td>\n",
    "        <td style=\"padding:10px; border:1px solid #e5e7eb;\">Caso base</td>\n",
    "        <td style=\"padding:10px; border:1px solid #e5e7eb; \">Condición del bucle</td>\n",
    "      </tr>\n",
    "      <tr style=\"\">\n",
    "        <td style=\"padding:10px; border:1px solid #e5e7eb;\">Uso de memoria</td>\n",
    "        <td style=\"padding:10px; border:1px solid #e5e7eb;\">Usa la pila de llamadas, consume\n",
    "más memoria</td>\n",
    "        <td style=\"padding:10px; border:1px solid #e5e7eb; \">Más eficiente en memoria</td>\n",
    "      </tr>\n",
    "      <tr style=\"\">\n",
    "        <td style=\"padding:10px; border:1px solid #e5e7eb;\">Riesgos</td>\n",
    "        <td style=\"padding:10px; border:1px solid #e5e7eb;\">Puede haber error de recursión infinita (RecursionError)</td>\n",
    "        <td style=\"padding:10px; border:1px solid #e5e7eb; \">En general más seguro, aunque puede\n",
    "generarse un ciclo infinito (while)</td>\n",
    "      </tr>\n",
    "    </tbody>\n",
    "  </table>\n",
    "\n",
    "</div>\n"
   ]
  },
  {
   "cell_type": "markdown",
   "id": "ggMaHkvPdSuz",
   "metadata": {
    "id": "ggMaHkvPdSuz"
   },
   "source": [
    "## Actividad 1\n",
    "Generar en VScode la función factorial usando iteración con while, correr el Debug y analizar las diferencias encontradas al usar recursividad.\n",
    "<BR>\n",
    "Agregar al Notebook la función resultante:"
   ]
  },
  {
   "cell_type": "code",
   "execution_count": 15,
   "id": "SPTTJQKiDP7l",
   "metadata": {
    "executionInfo": {
     "elapsed": 4,
     "status": "ok",
     "timestamp": 1761994472054,
     "user": {
      "displayName": "Juan Pablo Rigotti",
      "userId": "00152857968777329382"
     },
     "user_tz": 180
    },
    "id": "SPTTJQKiDP7l"
   },
   "outputs": [],
   "source": [
    "# Función factorial con iteración\n",
    "def factorial_ite (n):\n",
    "    resultado = 1\n",
    "    while n > 0:        # caso base\n",
    "        resultado = resultado * n\n",
    "        n-=1\n",
    "    return resultado"
   ]
  },
  {
   "cell_type": "markdown",
   "id": "ysI8AV_-C6Tj",
   "metadata": {
    "id": "ysI8AV_-C6Tj"
   },
   "source": [
    "## Actividad 2\n",
    "Comparar los tiempos de ejecución usando `%timeit`"
   ]
  },
  {
   "cell_type": "code",
   "execution_count": 20,
   "id": "mZOk9TCgDH6E",
   "metadata": {
    "colab": {
     "base_uri": "https://localhost:8080/"
    },
    "executionInfo": {
     "elapsed": 7511,
     "status": "ok",
     "timestamp": 1761994481604,
     "user": {
      "displayName": "Juan Pablo Rigotti",
      "userId": "00152857968777329382"
     },
     "user_tz": 180
    },
    "id": "mZOk9TCgDH6E",
    "outputId": "e159ce29-d60a-4cc4-c7aa-ceee3110f027"
   },
   "outputs": [
    {
     "name": "stdout",
     "output_type": "stream",
     "text": [
      "464 ns ± 5.48 ns per loop (mean ± std. dev. of 7 runs, 1,000,000 loops each)\n"
     ]
    }
   ],
   "source": [
    "# Calculo de consumo Factorial usando recursividad\n",
    "%timeit factorial(10)"
   ]
  },
  {
   "cell_type": "code",
   "execution_count": 21,
   "id": "o83WiG6kDigH",
   "metadata": {
    "colab": {
     "base_uri": "https://localhost:8080/"
    },
    "executionInfo": {
     "elapsed": 4847,
     "status": "ok",
     "timestamp": 1761994495746,
     "user": {
      "displayName": "Juan Pablo Rigotti",
      "userId": "00152857968777329382"
     },
     "user_tz": 180
    },
    "id": "o83WiG6kDigH",
    "outputId": "48259c13-58ba-4347-9c0a-46602fa6a008"
   },
   "outputs": [
    {
     "name": "stdout",
     "output_type": "stream",
     "text": [
      "372 ns ± 4.29 ns per loop (mean ± std. dev. of 7 runs, 1,000,000 loops each)\n"
     ]
    }
   ],
   "source": [
    "# Calculo de consumo Factorial usando iteracion\n",
    "%timeit factorial_ite(10)"
   ]
  },
  {
   "cell_type": "markdown",
   "id": "p1ukKMo8VX9s",
   "metadata": {
    "id": "p1ukKMo8VX9s"
   },
   "source": [
    "## Ventajas y desventajas"
   ]
  },
  {
   "cell_type": "markdown",
   "id": "vXkXczsjVcjS",
   "metadata": {
    "id": "vXkXczsjVcjS"
   },
   "source": [
    "Ventajas de usar recursividad:\n",
    "* Elegancia\n",
    "* Simplicidad\n",
    "\n",
    "Desventajas de usar recursividad:\n",
    "* Lentitud\n",
    "* Consumo de memoria\n"
   ]
  },
  {
   "cell_type": "markdown",
   "id": "DiwvcJT91y2C",
   "metadata": {
    "id": "DiwvcJT91y2C"
   },
   "source": [
    "# Recursividad con listas"
   ]
  },
  {
   "cell_type": "markdown",
   "id": "LXduoqp--SXP",
   "metadata": {
    "id": "LXduoqp--SXP"
   },
   "source": [
    "### Sumar los elementos de una lista"
   ]
  },
  {
   "cell_type": "markdown",
   "id": "5v7kUpg-2Prp",
   "metadata": {
    "id": "5v7kUpg-2Prp"
   },
   "source": [
    "En la clase 4 vimos map, filter y reduce en combinación con lambda, de manera de transformar los elementos de una lista, filtrar o bien reducirlos (si los elementos son numéricos) a un valor int/float.\n",
    "<BR>\n",
    "Los invito a que repasemos el uso de map y filter, y luego analicemos aquí el caso de reduce y como podríamos resolverlo con recursividad:"
   ]
  },
  {
   "cell_type": "code",
   "execution_count": 25,
   "id": "09LR8yoP3Mok",
   "metadata": {
    "id": "09LR8yoP3Mok"
   },
   "outputs": [
    {
     "name": "stdout",
     "output_type": "stream",
     "text": [
      "Nota promedio: 7.68\n"
     ]
    }
   ],
   "source": [
    "# Primero debemos importar la función del módulo functools\n",
    "from functools import reduce\n",
    "\n",
    "calificaciones = [8, 7, 6.5, 8.5, 5, 9, 9.75]\n",
    "suma_calificaciones = reduce(lambda nota1, nota2 : nota1 + nota2, calificaciones)\n",
    "promedio = suma_calificaciones/len(calificaciones)\n",
    "print(f\"Nota promedio: {promedio:.2f}\")\n",
    "\n",
    "# NOTA: analizar con Debug"
   ]
  },
  {
   "cell_type": "code",
   "execution_count": 32,
   "id": "0334dd65",
   "metadata": {},
   "outputs": [],
   "source": [
    "def sumar_lista_reduce(calificaciones):\n",
    "   suma = reduce(lambda nota1, nota2 : nota1 + nota2, calificaciones)\n",
    "   return suma"
   ]
  },
  {
   "cell_type": "markdown",
   "id": "7bUvC42v8mFr",
   "metadata": {
    "id": "7bUvC42v8mFr"
   },
   "source": [
    "Refactorizar el código para implementarlo con recursividad\n",
    "<BR>\n",
    "\n",
    "* sumatoria([1,2,3]) = 1 + sumatoria([2,3])\n",
    "* sumatoria([2,3]) = 2 + sumatoria([3])\n",
    "* sumatoria([3]) = 3\n",
    "* sumatoria([]) = 0"
   ]
  },
  {
   "cell_type": "code",
   "execution_count": null,
   "id": "1a06ee8c",
   "metadata": {},
   "outputs": [],
   "source": [
    "def sumatoria(n):\n",
    "    if n == 0:\n",
    "        return 0 # caso base\n",
    "    else:\n",
    "        return n + sumatoria(n - 1) # caso recursivo"
   ]
  },
  {
   "cell_type": "code",
   "execution_count": 24,
   "id": "eb539541",
   "metadata": {
    "executionInfo": {
     "elapsed": 41,
     "status": "ok",
     "timestamp": 1761992875476,
     "user": {
      "displayName": "Juan Pablo Rigotti",
      "userId": "00152857968777329382"
     },
     "user_tz": 180
    },
    "id": "eb539541"
   },
   "outputs": [],
   "source": [
    "# Sumatoria con recursividad\n",
    "def sumar_lista(lista):\n",
    "    if len(lista) == 0: # caso base/corte\n",
    "        return 0 \n",
    "    else:\n",
    "        return lista[0] + sumar_lista(lista[1:]) # caso recursivo"
   ]
  },
  {
   "cell_type": "code",
   "execution_count": 26,
   "id": "0eWT-Z9R4mfr",
   "metadata": {
    "colab": {
     "base_uri": "https://localhost:8080/"
    },
    "executionInfo": {
     "elapsed": 7,
     "status": "ok",
     "timestamp": 1761991631620,
     "user": {
      "displayName": "Juan Pablo Rigotti",
      "userId": "00152857968777329382"
     },
     "user_tz": 180
    },
    "id": "0eWT-Z9R4mfr",
    "outputId": "f0f85c63-d514-4bb8-9338-5c891f4ab2c0"
   },
   "outputs": [
    {
     "name": "stdout",
     "output_type": "stream",
     "text": [
      "Nota promedio: 7.68\n"
     ]
    }
   ],
   "source": [
    "# Validamos\n",
    "suma_calificaciones = sumar_lista(calificaciones)\n",
    "promedio = suma_calificaciones/len(calificaciones)\n",
    "print(f\"Nota promedio: {promedio:.2f}\")"
   ]
  },
  {
   "cell_type": "code",
   "execution_count": null,
   "id": "02a68d90",
   "metadata": {},
   "outputs": [
    {
     "name": "stdout",
     "output_type": "stream",
     "text": [
      "516 ns ± 5.29 ns per loop (mean ± std. dev. of 7 runs, 1,000,000 loops each)\n"
     ]
    }
   ],
   "source": [
    "# Funcion con reduce/lambda\n",
    "%timeit sumar_lista_reduce(calificaciones)"
   ]
  },
  {
   "cell_type": "code",
   "execution_count": null,
   "id": "4bd61080",
   "metadata": {},
   "outputs": [
    {
     "name": "stdout",
     "output_type": "stream",
     "text": [
      "962 ns ± 264 ns per loop (mean ± std. dev. of 7 runs, 1,000,000 loops each)\n"
     ]
    }
   ],
   "source": [
    "# Funcion con recursividad\n",
    "%timeit sumar_lista(calificaciones)"
   ]
  },
  {
   "cell_type": "markdown",
   "id": "6s882Wk2-ZBQ",
   "metadata": {
    "id": "6s882Wk2-ZBQ"
   },
   "source": [
    "### Buscar un elemento en una lista simple"
   ]
  },
  {
   "cell_type": "code",
   "execution_count": 35,
   "id": "vz-cTLTy-fD2",
   "metadata": {
    "executionInfo": {
     "elapsed": 4,
     "status": "ok",
     "timestamp": 1761993542048,
     "user": {
      "displayName": "Juan Pablo Rigotti",
      "userId": "00152857968777329382"
     },
     "user_tz": 180
    },
    "id": "vz-cTLTy-fD2"
   },
   "outputs": [],
   "source": [
    "categorias = [\"Electrónica\", \"Muebles\", \"Electrodomésticos\"]\n",
    "# categorias = [\"Muebles\", \"Electrodomésticos\"]\n",
    "# categorias = [ \"Electrodomésticos\"]"
   ]
  },
  {
   "cell_type": "code",
   "execution_count": 37,
   "id": "8UnBqUA5-bch",
   "metadata": {
    "executionInfo": {
     "elapsed": 4,
     "status": "ok",
     "timestamp": 1761993542903,
     "user": {
      "displayName": "Juan Pablo Rigotti",
      "userId": "00152857968777329382"
     },
     "user_tz": 180
    },
    "id": "8UnBqUA5-bch"
   },
   "outputs": [],
   "source": [
    "# Elemento buscado = Electrodomésticos\n",
    "def buscar_elemento(lista, elemento):\n",
    "    if len(lista)==0: #caso corte\n",
    "        return False\n",
    "    if lista[0] == elemento:    #caso base\n",
    "        return True\n",
    "    else:\n",
    "        return  buscar_elemento(lista[1:], elemento)    # caso recursivo"
   ]
  },
  {
   "cell_type": "code",
   "execution_count": 40,
   "id": "nmEZ_jtl_i-y",
   "metadata": {
    "colab": {
     "base_uri": "https://localhost:8080/"
    },
    "executionInfo": {
     "elapsed": 8,
     "status": "ok",
     "timestamp": 1761993548703,
     "user": {
      "displayName": "Juan Pablo Rigotti",
      "userId": "00152857968777329382"
     },
     "user_tz": 180
    },
    "id": "nmEZ_jtl_i-y",
    "outputId": "fe14aea9-38ee-4166-edc0-c90b3424bd15"
   },
   "outputs": [
    {
     "name": "stdout",
     "output_type": "stream",
     "text": [
      "No encontrado\n"
     ]
    }
   ],
   "source": [
    "categoria = \"Electrodomesticos\"\n",
    "resultado = buscar_elemento(categorias, categoria)\n",
    "print(\"Encontrado\" if resultado else \"No encontrado\")"
   ]
  },
  {
   "cell_type": "markdown",
   "id": "7DaRgu8-AAeS",
   "metadata": {
    "id": "7DaRgu8-AAeS"
   },
   "source": [
    "Mejorar el código de manera de ignorar case_sensitive y acentos"
   ]
  },
  {
   "cell_type": "code",
   "execution_count": 45,
   "id": "-3v62NavAUrP",
   "metadata": {
    "executionInfo": {
     "elapsed": 41,
     "status": "ok",
     "timestamp": 1761993654283,
     "user": {
      "displayName": "Juan Pablo Rigotti",
      "userId": "00152857968777329382"
     },
     "user_tz": 180
    },
    "id": "-3v62NavAUrP"
   },
   "outputs": [],
   "source": [
    "import unicodedata\n",
    "\n",
    "def normalizar(texto):\n",
    "    \"\"\"Convierte a minúsculas y elimina acentos.\"\"\"\n",
    "    texto = texto.lower()\n",
    "    texto = unicodedata.normalize('NFD', texto)\n",
    "    texto = texto.encode('ascii', 'ignore').decode('utf-8')\n",
    "    return texto"
   ]
  },
  {
   "cell_type": "code",
   "execution_count": 46,
   "id": "b14HllmoAYZY",
   "metadata": {
    "executionInfo": {
     "elapsed": 6,
     "status": "ok",
     "timestamp": 1761993779509,
     "user": {
      "displayName": "Juan Pablo Rigotti",
      "userId": "00152857968777329382"
     },
     "user_tz": 180
    },
    "id": "b14HllmoAYZY"
   },
   "outputs": [],
   "source": [
    "def buscar_elemento(lista, elemento):\n",
    "    if len(lista)==0: #caso corte\n",
    "        return False\n",
    "    lista_0_normalizado = normalizar(lista[0])\n",
    "    elemento_normalizado = normalizar(elemento)\n",
    "\n",
    "    if lista_0_normalizado == elemento_normalizado:    #caso base\n",
    "        return True\n",
    "    else:\n",
    "        return  buscar_elemento(lista[1:], elemento)    # caso recursivo"
   ]
  },
  {
   "cell_type": "code",
   "execution_count": 49,
   "id": "yfw1MyUuAory",
   "metadata": {
    "colab": {
     "base_uri": "https://localhost:8080/"
    },
    "executionInfo": {
     "elapsed": 14,
     "status": "ok",
     "timestamp": 1761993780610,
     "user": {
      "displayName": "Juan Pablo Rigotti",
      "userId": "00152857968777329382"
     },
     "user_tz": 180
    },
    "id": "yfw1MyUuAory",
    "outputId": "ea3e72b6-fced-4e3e-867f-67cbae70455d"
   },
   "outputs": [
    {
     "name": "stdout",
     "output_type": "stream",
     "text": [
      "Encontrado\n"
     ]
    }
   ],
   "source": [
    "categoria = \"Electrónica\"\n",
    "resultado = buscar_elemento(categorias, categoria)\n",
    "print(\"Encontrado\" if resultado else \"No encontrado\")"
   ]
  },
  {
   "cell_type": "markdown",
   "id": "lPrmp-Kn-7lV",
   "metadata": {
    "id": "lPrmp-Kn-7lV"
   },
   "source": [
    "### Buscar elementos en una lista de diccionarios"
   ]
  },
  {
   "cell_type": "code",
   "execution_count": null,
   "id": "rbm8oL3B-_-d",
   "metadata": {
    "id": "rbm8oL3B-_-d"
   },
   "outputs": [],
   "source": [
    "# Declaración de la función\n",
    "def buscar_producto(lista, clave, valor):\n",
    "    \"\"\"\n",
    "    Completamos\n",
    "    \"\"\""
   ]
  },
  {
   "cell_type": "code",
   "execution_count": null,
   "id": "fD71oo25CUaj",
   "metadata": {
    "id": "fD71oo25CUaj"
   },
   "outputs": [],
   "source": [
    "# Validación\n",
    "productos = [\n",
    "    {\"nombre\": \"Notebook\", \"categoria\": \"Electrónica\", \"precio\": 1200},\n",
    "    {\"nombre\": \"Silla\", \"categoria\": \"Muebles\", \"precio\": 300},\n",
    "    {\"nombre\": \"Cafetera\", \"categoria\": \"Electrodomésticos\", \"precio\": 150}\n",
    "]\n",
    "\n",
    "resultado = buscar_producto(productos, \"nombre\", \"Silla\")\n",
    "print(resultado)\n",
    "# {'nombre': 'Silla', 'categoria': 'Muebles', 'precio': 300}\n",
    "\n",
    "resultado2 = buscar_producto(productos, \"nombre\", \"Televisor\")\n",
    "print(resultado2)\n",
    "# None"
   ]
  },
  {
   "cell_type": "markdown",
   "id": "BEF7i55vDwxh",
   "metadata": {
    "id": "BEF7i55vDwxh"
   },
   "source": [
    "# Analizamos otros ejemplos"
   ]
  },
  {
   "cell_type": "markdown",
   "id": "I6K93HASDz41",
   "metadata": {
    "id": "I6K93HASDz41"
   },
   "source": [
    "## Serie de Fibonacci"
   ]
  },
  {
   "cell_type": "markdown",
   "id": "0954f1bf",
   "metadata": {},
   "source": [
    "La serie de Fibonacci es una secuencia de números en la que cada término se obtiene sumando los dos anteriores.\n",
    "<BR>\n",
    "Comienza con 0 y 1, y continúa así:\n",
    "<BR>\n",
    "0, 1, 1, 2, 3, 5, 8, 13, 21, 34, ...\n",
    "<BR>\n",
    "sea F(n) la serie de Fibonacci, se define\n",
    "<BR>\n",
    "F(n) = F(n-1)+F(n-2)\n",
    "\n"
   ]
  },
  {
   "cell_type": "code",
   "execution_count": 50,
   "id": "acbcc745",
   "metadata": {
    "id": "acbcc745"
   },
   "outputs": [],
   "source": [
    "def fibonacci(n):\n",
    "    if n <= 1:\n",
    "        return n\n",
    "    else:\n",
    "        return fibonacci(n - 1) + fibonacci(n - 2)"
   ]
  },
  {
   "cell_type": "code",
   "execution_count": 53,
   "id": "X0wZg419D4Qk",
   "metadata": {
    "id": "X0wZg419D4Qk"
   },
   "outputs": [
    {
     "name": "stdout",
     "output_type": "stream",
     "text": [
      "0 1 1 2 3 "
     ]
    }
   ],
   "source": [
    "#Validación\n",
    "for i in range(5):\n",
    "    print(fibonacci(i), end=\" \")"
   ]
  },
  {
   "cell_type": "markdown",
   "id": "Wh0TdDdGD7cA",
   "metadata": {
    "id": "Wh0TdDdGD7cA"
   },
   "source": [
    "## Contar dígitos"
   ]
  },
  {
   "cell_type": "code",
   "execution_count": null,
   "id": "fd68fce4",
   "metadata": {
    "id": "fd68fce4"
   },
   "outputs": [],
   "source": [
    "def contar_digitos(n):\n",
    "    if n < 10:\n",
    "        return 1\n",
    "    else:\n",
    "        return 1 + contar_digitos(n // 10)"
   ]
  },
  {
   "cell_type": "code",
   "execution_count": null,
   "id": "z0tPWVJnD_Rb",
   "metadata": {
    "id": "z0tPWVJnD_Rb"
   },
   "outputs": [],
   "source": [
    "print(contar_digitos(12345))"
   ]
  },
  {
   "cell_type": "markdown",
   "id": "X8sZz_JsD_8r",
   "metadata": {
    "id": "X8sZz_JsD_8r"
   },
   "source": [
    "## Resolver potencia"
   ]
  },
  {
   "cell_type": "code",
   "execution_count": 54,
   "id": "b7f9fa2e",
   "metadata": {
    "executionInfo": {
     "elapsed": 19,
     "status": "ok",
     "timestamp": 1761994650243,
     "user": {
      "displayName": "Juan Pablo Rigotti",
      "userId": "00152857968777329382"
     },
     "user_tz": 180
    },
    "id": "b7f9fa2e"
   },
   "outputs": [],
   "source": [
    "def potencia(base, exponente):\n",
    "    if exponente == 0:\n",
    "        return 1\n",
    "    else:\n",
    "        return base * potencia(base, exponente - 1)"
   ]
  },
  {
   "cell_type": "code",
   "execution_count": 55,
   "id": "DV_l9zZOEEn1",
   "metadata": {
    "colab": {
     "base_uri": "https://localhost:8080/"
    },
    "executionInfo": {
     "elapsed": 17,
     "status": "ok",
     "timestamp": 1761994651293,
     "user": {
      "displayName": "Juan Pablo Rigotti",
      "userId": "00152857968777329382"
     },
     "user_tz": 180
    },
    "id": "DV_l9zZOEEn1",
    "outputId": "5d1e2d2a-cdb2-4ed7-a605-113b9e2c865f"
   },
   "outputs": [
    {
     "name": "stdout",
     "output_type": "stream",
     "text": [
      "32\n"
     ]
    }
   ],
   "source": [
    "# Validamos\n",
    "print(potencia(2, 5))"
   ]
  },
  {
   "cell_type": "code",
   "execution_count": 56,
   "id": "XBNhw1fdEGVi",
   "metadata": {
    "colab": {
     "base_uri": "https://localhost:8080/"
    },
    "executionInfo": {
     "elapsed": 14,
     "status": "ok",
     "timestamp": 1761994671673,
     "user": {
      "displayName": "Juan Pablo Rigotti",
      "userId": "00152857968777329382"
     },
     "user_tz": 180
    },
    "id": "XBNhw1fdEGVi",
    "outputId": "0936b1fe-205b-49f3-da1c-4de1545af897"
   },
   "outputs": [
    {
     "name": "stdout",
     "output_type": "stream",
     "text": [
      "32.0\n"
     ]
    }
   ],
   "source": [
    "from math import pow\n",
    "print(pow(2,5))"
   ]
  },
  {
   "cell_type": "markdown",
   "id": "5SNaQxWAERcK",
   "metadata": {
    "id": "5SNaQxWAERcK"
   },
   "source": [
    "## Invertir una cadena de texto"
   ]
  },
  {
   "cell_type": "code",
   "execution_count": 57,
   "id": "84cabdf5",
   "metadata": {
    "id": "84cabdf5"
   },
   "outputs": [],
   "source": [
    "def invertir_cadena(texto):\n",
    "    if len(texto) == 0:\n",
    "        return \"\"\n",
    "    else:\n",
    "        return texto[-1] + invertir_cadena(texto[:-1])"
   ]
  },
  {
   "cell_type": "code",
   "execution_count": 58,
   "id": "fSd89AyKE2_Q",
   "metadata": {
    "id": "fSd89AyKE2_Q"
   },
   "outputs": [
    {
     "name": "stdout",
     "output_type": "stream",
     "text": [
      "nóisrucer\n"
     ]
    }
   ],
   "source": [
    "# Validamos\n",
    "print(invertir_cadena(\"recursión\"))"
   ]
  },
  {
   "cell_type": "markdown",
   "id": "849fdbc8",
   "metadata": {
    "id": "849fdbc8"
   },
   "source": [
    "\n",
    "## Ejercicios propuestos\n",
    "1. Crear una función recursiva que cuente cuántas vocales tiene una palabra.  \n",
    "2. Implementar una función `maximo(lista)` que devuelva el valor máximo usando recursión.  \n",
    "3. Comparar las versiones iterativas y recursivas con `%timeit` en Jupyter.  \n",
    "4. Usar el Debug para analizar en memoria"
   ]
  }
 ],
 "metadata": {
  "colab": {
   "provenance": [],
   "toc_visible": true
  },
  "kernelspec": {
   "display_name": "Python 3",
   "name": "python3"
  },
  "language_info": {
   "codemirror_mode": {
    "name": "ipython",
    "version": 3
   },
   "file_extension": ".py",
   "mimetype": "text/x-python",
   "name": "python",
   "nbconvert_exporter": "python",
   "pygments_lexer": "ipython3",
   "version": "3.12.7"
  }
 },
 "nbformat": 4,
 "nbformat_minor": 5
}
