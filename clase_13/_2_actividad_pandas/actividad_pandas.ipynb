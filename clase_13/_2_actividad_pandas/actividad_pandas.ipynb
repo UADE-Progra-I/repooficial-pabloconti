{
 "cells": [
  {
   "cell_type": "markdown",
   "id": "867648a7",
   "metadata": {},
   "source": [
    "\n",
    "# Actividad Integradora – Práctica con Pandas\n",
    "\n",
    "### Objetivo\n",
    "Practicar el manejo de datos en **pandas**:\n",
    "- creación de `DataFrame`s  \n",
    "- exploración de datos  \n",
    "- ajuste de tipos  \n",
    "- filtros  \n",
    "- uniones (`merge`)  \n",
    "- agrupamientos (`groupby` + `agg`)\n"
   ]
  },
  {
   "cell_type": "code",
   "execution_count": null,
   "id": "d7f608a9",
   "metadata": {},
   "outputs": [],
   "source": [
    "\n",
    "import pandas as pd\n"
   ]
  },
  {
   "cell_type": "markdown",
   "id": "6ff62a90",
   "metadata": {},
   "source": [
    "## 1 Creación de DataFrames"
   ]
  },
  {
   "cell_type": "code",
   "execution_count": 2,
   "id": "08a03da3",
   "metadata": {},
   "outputs": [],
   "source": [
    "# DataFrame de productos\n",
    "productos = pd.DataFrame({\n",
    "    'id_producto': [1, 2, 3, 4, 5],\n",
    "    'nombre': ['Notebook', 'Mouse', 'Teclado', 'Monitor', 'Impresora'],\n",
    "    'categoria': ['Computación', 'Periféricos', 'Periféricos', 'Computación', 'Oficina'],\n",
    "    'precio_unitario': [1200.0, 25.5, 45.0, 800.0, 300.0]\n",
    "})\n"
   ]
  },
  {
   "cell_type": "code",
   "execution_count": 3,
   "id": "b51902ff",
   "metadata": {},
   "outputs": [],
   "source": [
    "# DataFrame de ventas\n",
    "ventas = pd.DataFrame({\n",
    "    'id_venta': [101, 102, 103, 104, 105, 106],\n",
    "    'id_producto': [1, 2, 2, 3, 5, 4],\n",
    "    'cantidad_vendida': [2, 5, 3, 4, 1, 2],\n",
    "    'fecha_venta': ['2024-10-10', '2024-10-11', '2024-10-12', '2024-10-12', '2024-10-13', '2024-10-13']\n",
    "})\n"
   ]
  },
  {
   "cell_type": "markdown",
   "id": "39188939",
   "metadata": {},
   "source": [
    "\n",
    "## 2 Exploración inicial de los datos\n",
    "\n",
    "### Actividades\n",
    "1. Mostrar las **últimas filas** de ambos DataFrames.  \n",
    "2. Usar `.info()` y `.describe()` para conocer los tipos de datos y estadísticas básicas.  \n"
   ]
  },
  {
   "cell_type": "code",
   "execution_count": null,
   "id": "cb927a3c",
   "metadata": {},
   "outputs": [],
   "source": [
    "# Codigo aquí"
   ]
  },
  {
   "cell_type": "markdown",
   "id": "507bbba4",
   "metadata": {},
   "source": [
    "## 3 Ajuste de tipos de datos"
   ]
  },
  {
   "cell_type": "code",
   "execution_count": null,
   "id": "d3d8297d",
   "metadata": {},
   "outputs": [],
   "source": [
    "\n",
    "# Convertir fecha_venta a tipo datetime\n",
    "\n"
   ]
  },
  {
   "cell_type": "markdown",
   "id": "2b7332a5",
   "metadata": {},
   "source": [
    "\n",
    "###  Actividades\n",
    "1. Convertir el campo `categoria` en `productos` a tipo `category`.  \n",
    "2. Confirmar los cambios usando `dtypes`.\n"
   ]
  },
  {
   "cell_type": "code",
   "execution_count": null,
   "id": "ec746495",
   "metadata": {},
   "outputs": [],
   "source": [
    "# Tu codigo aquí"
   ]
  },
  {
   "cell_type": "markdown",
   "id": "72899cfa",
   "metadata": {},
   "source": [
    "## 4 Aplicar filtros"
   ]
  },
  {
   "cell_type": "code",
   "execution_count": null,
   "id": "e6c5fa37",
   "metadata": {},
   "outputs": [],
   "source": [
    "# Seleccionar los productos con precio mayor a 100\n",
    "\n"
   ]
  },
  {
   "cell_type": "markdown",
   "id": "63402c48",
   "metadata": {},
   "source": [
    "\n",
    "###  Actividades\n",
    "1. Filtrar los productos cuya categoría sea “Periféricos”.  \n",
    "2. Filtrar las ventas donde la cantidad vendida sea mayor o igual a 3.\n"
   ]
  },
  {
   "cell_type": "code",
   "execution_count": null,
   "id": "81b2d2e8",
   "metadata": {},
   "outputs": [],
   "source": [
    "# Tu código aquí"
   ]
  },
  {
   "cell_type": "markdown",
   "id": "cefc2fc7",
   "metadata": {},
   "source": [
    "## 5 Realizar un merge"
   ]
  },
  {
   "cell_type": "code",
   "execution_count": null,
   "id": "36183617",
   "metadata": {},
   "outputs": [],
   "source": [
    "# Unir ventas con productos\n",
    "\n"
   ]
  },
  {
   "cell_type": "markdown",
   "id": "4691002f",
   "metadata": {},
   "source": [
    "\n",
    "### Actividades\n",
    "1. Probar `how='inner'`, `how='right'` y `how='outer'` y observar las diferencias.  \n",
    "2. Calcular una nueva columna `importe_total = cantidad_vendida * precio_unitario`.\n"
   ]
  },
  {
   "cell_type": "markdown",
   "id": "ff10570c",
   "metadata": {},
   "source": [
    "## 6 Agrupamientos y agregaciones"
   ]
  },
  {
   "cell_type": "code",
   "execution_count": null,
   "id": "1743bf69",
   "metadata": {},
   "outputs": [],
   "source": [
    "\n",
    "# Calcular ventas totales por categoría\n"
   ]
  },
  {
   "cell_type": "markdown",
   "id": "ea732d4d",
   "metadata": {},
   "source": [
    "\n",
    "### Actividades\n",
    "1. Calcular el **total vendido por producto** (`nombre`).  \n",
    "2. Calcular el **promedio de unidades vendidas** por categoría.  \n",
    "3. Ordenar el resultado por `total_vendido` descendente.\n"
   ]
  },
  {
   "cell_type": "code",
   "execution_count": null,
   "id": "ecc4086c",
   "metadata": {},
   "outputs": [],
   "source": [
    "# Tu codigo aquí"
   ]
  },
  {
   "cell_type": "markdown",
   "id": "f68dec56",
   "metadata": {},
   "source": [
    "\n",
    "## 7 Desafío adicional\n",
    "1. Agregar una columna con el **precio promedio por unidad vendida** (`importe_total / cantidad_vendida`).  \n",
    "2. Filtrar los productos con total vendido mayor al promedio general.  \n"
   ]
  },
  {
   "cell_type": "code",
   "execution_count": null,
   "id": "793ed5a6",
   "metadata": {},
   "outputs": [],
   "source": [
    "# Tu código aquí"
   ]
  }
 ],
 "metadata": {
  "kernelspec": {
   "display_name": "Python 3",
   "language": "python",
   "name": "python3"
  },
  "language_info": {
   "codemirror_mode": {
    "name": "ipython",
    "version": 3
   },
   "file_extension": ".py",
   "mimetype": "text/x-python",
   "name": "python",
   "nbconvert_exporter": "python",
   "pygments_lexer": "ipython3",
   "version": "3.12.7"
  }
 },
 "nbformat": 4,
 "nbformat_minor": 5
}
