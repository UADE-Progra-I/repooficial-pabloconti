{
 "cells": [
  {
   "cell_type": "markdown",
   "id": "fdc21b2c",
   "metadata": {
    "id": "fdc21b2c"
   },
   "source": [
    "# Manejo de Datasets con Pandas\n",
    "\n",
    "Este notebook tiene como objetivo introducir el manejo de **datasets con la librería Pandas**,\n",
    "simulando operaciones similares a las de una base de datos SQL: `SELECT`, `WHERE`, `JOIN`, `GROUP BY`.\n",
    "\n",
    "**Objetivo:** aprender a cargar, filtrar, unir y agrupar datos usando Pandas,\n",
    "aplicando estos conocimientos a modelos de datos como asistencias, stock o consultas médicas.\n"
   ]
  },
  {
   "cell_type": "markdown",
   "id": "8d48dfde",
   "metadata": {
    "id": "8d48dfde"
   },
   "source": [
    "## Importación de Pandas y carga de datos\n",
    "\n",
    "Primero importamos la librería Pandas y creamos algunos datasets de ejemplo.\n",
    "<BR>\n",
    "Vamos a seguir en línea con el schema de Postgres, una tabla para estudiantes y otra para asistencias.\n"
   ]
  },
  {
   "cell_type": "markdown",
   "id": "HLHmpp2riVq_",
   "metadata": {
    "id": "HLHmpp2riVq_"
   },
   "source": [
    "En caso de tener que importar un archivo 'csv' o 'json' pueden hacerlo con:\n",
    "\n",
    "* df = pd.read_csv(\"ejemplo.csv\")\n",
    "* df = pd.read_json(\"archivo.json\")"
   ]
  },
  {
   "cell_type": "code",
   "execution_count": 1,
   "id": "n27A_x4lH7kI",
   "metadata": {
    "id": "n27A_x4lH7kI"
   },
   "outputs": [],
   "source": [
    "# Importar Pandas\n",
    "import pandas as pd"
   ]
  },
  {
   "cell_type": "code",
   "execution_count": 2,
   "id": "77fff4cd",
   "metadata": {
    "id": "77fff4cd"
   },
   "outputs": [
    {
     "data": {
      "text/html": [
       "<div>\n",
       "<style scoped>\n",
       "    .dataframe tbody tr th:only-of-type {\n",
       "        vertical-align: middle;\n",
       "    }\n",
       "\n",
       "    .dataframe tbody tr th {\n",
       "        vertical-align: top;\n",
       "    }\n",
       "\n",
       "    .dataframe thead th {\n",
       "        text-align: right;\n",
       "    }\n",
       "</style>\n",
       "<table border=\"1\" class=\"dataframe\">\n",
       "  <thead>\n",
       "    <tr style=\"text-align: right;\">\n",
       "      <th></th>\n",
       "      <th>id_estudiante</th>\n",
       "      <th>nombre</th>\n",
       "      <th>apellido</th>\n",
       "      <th>legajo</th>\n",
       "    </tr>\n",
       "  </thead>\n",
       "  <tbody>\n",
       "    <tr>\n",
       "      <th>0</th>\n",
       "      <td>1</td>\n",
       "      <td>Ana</td>\n",
       "      <td>Kunst</td>\n",
       "      <td>1568</td>\n",
       "    </tr>\n",
       "    <tr>\n",
       "      <th>1</th>\n",
       "      <td>2</td>\n",
       "      <td>Luis</td>\n",
       "      <td>Martins</td>\n",
       "      <td>2649</td>\n",
       "    </tr>\n",
       "    <tr>\n",
       "      <th>2</th>\n",
       "      <td>3</td>\n",
       "      <td>Sofía</td>\n",
       "      <td>Ripol</td>\n",
       "      <td>1523</td>\n",
       "    </tr>\n",
       "  </tbody>\n",
       "</table>\n",
       "</div>"
      ],
      "text/plain": [
       "   id_estudiante nombre apellido legajo\n",
       "0              1    Ana    Kunst   1568\n",
       "1              2   Luis  Martins   2649\n",
       "2              3  Sofía    Ripol   1523"
      ]
     },
     "execution_count": 2,
     "metadata": {},
     "output_type": "execute_result"
    }
   ],
   "source": [
    "# Creamos el dataset estudiante con algunos datos:\n",
    "estudiantes = pd.DataFrame({\n",
    "    'id_estudiante': [1, 2, 3,],\n",
    "    'nombre': ['Ana', 'Luis', \"Sofía\"],\n",
    "    'apellido': ['Kunst', 'Martins', 'Ripol'],\n",
    "    'legajo': ['1568', '2649', '1523']\n",
    "})\n",
    "\n",
    "estudiantes"
   ]
  },
  {
   "cell_type": "code",
   "execution_count": 3,
   "id": "v6nuK-iGH2mk",
   "metadata": {
    "id": "v6nuK-iGH2mk"
   },
   "outputs": [
    {
     "data": {
      "text/html": [
       "<div>\n",
       "<style scoped>\n",
       "    .dataframe tbody tr th:only-of-type {\n",
       "        vertical-align: middle;\n",
       "    }\n",
       "\n",
       "    .dataframe tbody tr th {\n",
       "        vertical-align: top;\n",
       "    }\n",
       "\n",
       "    .dataframe thead th {\n",
       "        text-align: right;\n",
       "    }\n",
       "</style>\n",
       "<table border=\"1\" class=\"dataframe\">\n",
       "  <thead>\n",
       "    <tr style=\"text-align: right;\">\n",
       "      <th></th>\n",
       "      <th>id_asistencia</th>\n",
       "      <th>id_estudiante</th>\n",
       "      <th>asignatura</th>\n",
       "      <th>fecha</th>\n",
       "      <th>estado</th>\n",
       "    </tr>\n",
       "  </thead>\n",
       "  <tbody>\n",
       "    <tr>\n",
       "      <th>0</th>\n",
       "      <td>101</td>\n",
       "      <td>1</td>\n",
       "      <td>Algoritmos</td>\n",
       "      <td>2025-03-01</td>\n",
       "      <td>P</td>\n",
       "    </tr>\n",
       "    <tr>\n",
       "      <th>1</th>\n",
       "      <td>102</td>\n",
       "      <td>2</td>\n",
       "      <td>Marketing</td>\n",
       "      <td>2025-04-01</td>\n",
       "      <td>A</td>\n",
       "    </tr>\n",
       "    <tr>\n",
       "      <th>2</th>\n",
       "      <td>103</td>\n",
       "      <td>1</td>\n",
       "      <td>Algoritmos</td>\n",
       "      <td>2025-04-09</td>\n",
       "      <td>M</td>\n",
       "    </tr>\n",
       "    <tr>\n",
       "      <th>3</th>\n",
       "      <td>104</td>\n",
       "      <td>3</td>\n",
       "      <td>Progra I</td>\n",
       "      <td>2025-05-08</td>\n",
       "      <td>P</td>\n",
       "    </tr>\n",
       "    <tr>\n",
       "      <th>4</th>\n",
       "      <td>105</td>\n",
       "      <td>2</td>\n",
       "      <td>Marketing</td>\n",
       "      <td>2025-05-15</td>\n",
       "      <td>P</td>\n",
       "    </tr>\n",
       "  </tbody>\n",
       "</table>\n",
       "</div>"
      ],
      "text/plain": [
       "   id_asistencia  id_estudiante  asignatura       fecha estado\n",
       "0            101              1  Algoritmos  2025-03-01      P\n",
       "1            102              2   Marketing  2025-04-01      A\n",
       "2            103              1  Algoritmos  2025-04-09      M\n",
       "3            104              3    Progra I  2025-05-08      P\n",
       "4            105              2   Marketing  2025-05-15      P"
      ]
     },
     "execution_count": 3,
     "metadata": {},
     "output_type": "execute_result"
    }
   ],
   "source": [
    "# Creamos el dataset asistencias con algunos datos:\n",
    "asistencias = pd.DataFrame({\n",
    "    'id_asistencia': [101, 102, 103, 104, 105],\n",
    "    'id_estudiante': [1, 2, 1, 3, 2],\n",
    "    'asignatura': ['Algoritmos', 'Marketing', 'Algoritmos', 'Progra I', 'Marketing'],\n",
    "    'fecha': ['2025-03-01', '2025-04-01', '2025-04-09', '2025-05-08', '2025-05-15'],\n",
    "    'estado': [\"P\", \"A\", \"M\", \"P\", \"P\"]\n",
    "})\n",
    "\n",
    "asistencias"
   ]
  },
  {
   "cell_type": "markdown",
   "id": "88aaae2d",
   "metadata": {
    "id": "88aaae2d"
   },
   "source": [
    "## 🔍 Exploración básica de DataFrames\n",
    "\n",
    "Podemos inspeccionar la estructura y contenido de los DataFrames.\n"
   ]
  },
  {
   "cell_type": "code",
   "execution_count": 14,
   "id": "L3ARLZ_FREKW",
   "metadata": {
    "id": "L3ARLZ_FREKW"
   },
   "outputs": [
    {
     "data": {
      "text/html": [
       "<div>\n",
       "<style scoped>\n",
       "    .dataframe tbody tr th:only-of-type {\n",
       "        vertical-align: middle;\n",
       "    }\n",
       "\n",
       "    .dataframe tbody tr th {\n",
       "        vertical-align: top;\n",
       "    }\n",
       "\n",
       "    .dataframe thead th {\n",
       "        text-align: right;\n",
       "    }\n",
       "</style>\n",
       "<table border=\"1\" class=\"dataframe\">\n",
       "  <thead>\n",
       "    <tr style=\"text-align: right;\">\n",
       "      <th></th>\n",
       "      <th>id_estudiante</th>\n",
       "      <th>nombre</th>\n",
       "      <th>apellido</th>\n",
       "      <th>legajo</th>\n",
       "    </tr>\n",
       "  </thead>\n",
       "  <tbody>\n",
       "    <tr>\n",
       "      <th>0</th>\n",
       "      <td>1</td>\n",
       "      <td>Ana</td>\n",
       "      <td>Kunst</td>\n",
       "      <td>1568</td>\n",
       "    </tr>\n",
       "    <tr>\n",
       "      <th>1</th>\n",
       "      <td>2</td>\n",
       "      <td>Luis</td>\n",
       "      <td>Martins</td>\n",
       "      <td>2649</td>\n",
       "    </tr>\n",
       "  </tbody>\n",
       "</table>\n",
       "</div>"
      ],
      "text/plain": [
       "   id_estudiante nombre apellido legajo\n",
       "0              1    Ana    Kunst   1568\n",
       "1              2   Luis  Martins   2649"
      ]
     },
     "execution_count": 14,
     "metadata": {},
     "output_type": "execute_result"
    }
   ],
   "source": [
    "# Primeras filas\n",
    "estudiantes.head(2)"
   ]
  },
  {
   "cell_type": "code",
   "execution_count": 16,
   "id": "fFuVcLklRHBD",
   "metadata": {
    "id": "fFuVcLklRHBD"
   },
   "outputs": [
    {
     "name": "stdout",
     "output_type": "stream",
     "text": [
      "<class 'pandas.core.frame.DataFrame'>\n",
      "RangeIndex: 5 entries, 0 to 4\n",
      "Data columns (total 5 columns):\n",
      " #   Column         Non-Null Count  Dtype \n",
      "---  ------         --------------  ----- \n",
      " 0   id_asistencia  5 non-null      int64 \n",
      " 1   id_estudiante  5 non-null      int64 \n",
      " 2   asignatura     5 non-null      object\n",
      " 3   fecha          5 non-null      object\n",
      " 4   estado         5 non-null      object\n",
      "dtypes: int64(2), object(3)\n",
      "memory usage: 332.0+ bytes\n"
     ]
    }
   ],
   "source": [
    "# Información general\n",
    "asistencias.info()"
   ]
  },
  {
   "cell_type": "code",
   "execution_count": 17,
   "id": "3DQ7yNezXfRl",
   "metadata": {
    "id": "3DQ7yNezXfRl"
   },
   "outputs": [
    {
     "data": {
      "text/plain": [
       "Index(['id_estudiante', 'nombre', 'apellido', 'legajo'], dtype='object')"
      ]
     },
     "execution_count": 17,
     "metadata": {},
     "output_type": "execute_result"
    }
   ],
   "source": [
    "# Listar las columnas\n",
    "estudiantes.columns"
   ]
  },
  {
   "cell_type": "markdown",
   "id": "Gp1rVoHZkoTb",
   "metadata": {
    "id": "Gp1rVoHZkoTb"
   },
   "source": [
    "## Análisis y conversión de tipo de datos"
   ]
  },
  {
   "cell_type": "markdown",
   "id": "qF7G0IZpmVde",
   "metadata": {
    "id": "qF7G0IZpmVde"
   },
   "source": [
    "### dtypes"
   ]
  },
  {
   "cell_type": "code",
   "execution_count": 18,
   "id": "r-tb3JLBkvVM",
   "metadata": {
    "id": "r-tb3JLBkvVM"
   },
   "outputs": [
    {
     "data": {
      "text/plain": [
       "id_asistencia     int64\n",
       "id_estudiante     int64\n",
       "asignatura       object\n",
       "fecha            object\n",
       "estado           object\n",
       "dtype: object"
      ]
     },
     "execution_count": 18,
     "metadata": {},
     "output_type": "execute_result"
    }
   ],
   "source": [
    "# A diferencia de Python nativo, en Pandas podemos forzar un tipo de dato.\n",
    "# La propiedad es dtype\n",
    "asistencias.dtypes"
   ]
  },
  {
   "cell_type": "markdown",
   "id": "qZNtOnFHmX-2",
   "metadata": {
    "id": "qZNtOnFHmX-2"
   },
   "source": [
    "### astype()"
   ]
  },
  {
   "cell_type": "code",
   "execution_count": 20,
   "id": "EkJbGJuolFYM",
   "metadata": {
    "id": "EkJbGJuolFYM"
   },
   "outputs": [
    {
     "data": {
      "text/plain": [
       "id_asistencia     int64\n",
       "id_estudiante     int64\n",
       "asignatura       object\n",
       "fecha            object\n",
       "estado           object\n",
       "dtype: object"
      ]
     },
     "execution_count": 20,
     "metadata": {},
     "output_type": "execute_result"
    }
   ],
   "source": [
    "# Convertir str a int o int a str con astype\n",
    "asistencias['id_estudiante'] = asistencias['id_estudiante'].astype(int)\n",
    "asistencias.dtypes\n",
    "#astype() admite, int, float, str"
   ]
  },
  {
   "cell_type": "markdown",
   "id": "esXHgFRzmal9",
   "metadata": {
    "id": "esXHgFRzmal9"
   },
   "source": [
    "### to_datetime()"
   ]
  },
  {
   "cell_type": "code",
   "execution_count": null,
   "id": "YylEPMxymc8x",
   "metadata": {
    "id": "YylEPMxymc8x"
   },
   "outputs": [
    {
     "data": {
      "text/plain": [
       "dtype('<M8[ns]')"
      ]
     },
     "execution_count": 24,
     "metadata": {},
     "output_type": "execute_result"
    }
   ],
   "source": [
    "# Vamos a convertir el dtype de fecha.\n",
    "#asistencias['fecha'].dtype\n",
    "\n",
    "#asistencias['fecha'].sample() # YYY-MM-DD\n",
    "\n",
    "asistencias['fecha'] = pd.to_datetime(asistencias['fecha'])\n",
    "# se admite format=\"%d/%m/%Y\", erros=\"coerce\"\n",
    "\n",
    "asistencias['fecha'].dtype"
   ]
  },
  {
   "cell_type": "markdown",
   "id": "7abe2f7e",
   "metadata": {
    "id": "7abe2f7e"
   },
   "source": [
    "## Selección y filtrado de columnas y filas\n",
    "\n",
    "Simulamos un `SELECT` y un `WHERE` en SQL.\n"
   ]
  },
  {
   "cell_type": "code",
   "execution_count": 26,
   "id": "uqMss8hVS6qd",
   "metadata": {
    "id": "uqMss8hVS6qd"
   },
   "outputs": [
    {
     "data": {
      "text/html": [
       "<div>\n",
       "<style scoped>\n",
       "    .dataframe tbody tr th:only-of-type {\n",
       "        vertical-align: middle;\n",
       "    }\n",
       "\n",
       "    .dataframe tbody tr th {\n",
       "        vertical-align: top;\n",
       "    }\n",
       "\n",
       "    .dataframe thead th {\n",
       "        text-align: right;\n",
       "    }\n",
       "</style>\n",
       "<table border=\"1\" class=\"dataframe\">\n",
       "  <thead>\n",
       "    <tr style=\"text-align: right;\">\n",
       "      <th></th>\n",
       "      <th>id_estudiante</th>\n",
       "      <th>apellido</th>\n",
       "    </tr>\n",
       "  </thead>\n",
       "  <tbody>\n",
       "    <tr>\n",
       "      <th>0</th>\n",
       "      <td>1</td>\n",
       "      <td>Kunst</td>\n",
       "    </tr>\n",
       "    <tr>\n",
       "      <th>1</th>\n",
       "      <td>2</td>\n",
       "      <td>Martins</td>\n",
       "    </tr>\n",
       "    <tr>\n",
       "      <th>2</th>\n",
       "      <td>3</td>\n",
       "      <td>Ripol</td>\n",
       "    </tr>\n",
       "  </tbody>\n",
       "</table>\n",
       "</div>"
      ],
      "text/plain": [
       "   id_estudiante apellido\n",
       "0              1    Kunst\n",
       "1              2  Martins\n",
       "2              3    Ripol"
      ]
     },
     "execution_count": 26,
     "metadata": {},
     "output_type": "execute_result"
    }
   ],
   "source": [
    "# Seleccionar columnas específicas\n",
    "estudiantes[['id_estudiante', 'apellido']]\n"
   ]
  },
  {
   "cell_type": "code",
   "execution_count": 27,
   "id": "rxIyeshWqL7p",
   "metadata": {
    "id": "rxIyeshWqL7p"
   },
   "outputs": [
    {
     "data": {
      "text/plain": [
       "array(['Algoritmos', 'Marketing', 'Progra I'], dtype=object)"
      ]
     },
     "execution_count": 27,
     "metadata": {},
     "output_type": "execute_result"
    }
   ],
   "source": [
    "# Identifcar valores únicos\n",
    "asistencias['asignatura'].unique()"
   ]
  },
  {
   "cell_type": "code",
   "execution_count": 28,
   "id": "B4jBmQqWqSCH",
   "metadata": {
    "id": "B4jBmQqWqSCH"
   },
   "outputs": [
    {
     "data": {
      "text/plain": [
       "asignatura\n",
       "Algoritmos    2\n",
       "Marketing     2\n",
       "Progra I      1\n",
       "Name: count, dtype: int64"
      ]
     },
     "execution_count": 28,
     "metadata": {},
     "output_type": "execute_result"
    }
   ],
   "source": [
    "# Contar valores unicos\n",
    "asistencias['asignatura'].value_counts()"
   ]
  },
  {
   "cell_type": "code",
   "execution_count": 29,
   "id": "ukFWOYLLYPvu",
   "metadata": {
    "id": "ukFWOYLLYPvu"
   },
   "outputs": [
    {
     "data": {
      "text/html": [
       "<div>\n",
       "<style scoped>\n",
       "    .dataframe tbody tr th:only-of-type {\n",
       "        vertical-align: middle;\n",
       "    }\n",
       "\n",
       "    .dataframe tbody tr th {\n",
       "        vertical-align: top;\n",
       "    }\n",
       "\n",
       "    .dataframe thead th {\n",
       "        text-align: right;\n",
       "    }\n",
       "</style>\n",
       "<table border=\"1\" class=\"dataframe\">\n",
       "  <thead>\n",
       "    <tr style=\"text-align: right;\">\n",
       "      <th></th>\n",
       "      <th>id_asistencia</th>\n",
       "      <th>id_estudiante</th>\n",
       "      <th>asignatura</th>\n",
       "      <th>fecha</th>\n",
       "      <th>estado</th>\n",
       "    </tr>\n",
       "  </thead>\n",
       "  <tbody>\n",
       "    <tr>\n",
       "      <th>1</th>\n",
       "      <td>102</td>\n",
       "      <td>2</td>\n",
       "      <td>Marketing</td>\n",
       "      <td>2025-04-01</td>\n",
       "      <td>A</td>\n",
       "    </tr>\n",
       "    <tr>\n",
       "      <th>4</th>\n",
       "      <td>105</td>\n",
       "      <td>2</td>\n",
       "      <td>Marketing</td>\n",
       "      <td>2025-05-15</td>\n",
       "      <td>P</td>\n",
       "    </tr>\n",
       "  </tbody>\n",
       "</table>\n",
       "</div>"
      ],
      "text/plain": [
       "   id_asistencia  id_estudiante asignatura      fecha estado\n",
       "1            102              2  Marketing 2025-04-01      A\n",
       "4            105              2  Marketing 2025-05-15      P"
      ]
     },
     "execution_count": 29,
     "metadata": {},
     "output_type": "execute_result"
    }
   ],
   "source": [
    "# Filtrar filas (WHERE asignatura = 'Matemática Discreta')\n",
    "asistencias[asistencias['asignatura'] == 'Marketing']\n"
   ]
  },
  {
   "cell_type": "code",
   "execution_count": 30,
   "id": "UozhROe8Y3sq",
   "metadata": {
    "id": "UozhROe8Y3sq"
   },
   "outputs": [
    {
     "data": {
      "text/html": [
       "<div>\n",
       "<style scoped>\n",
       "    .dataframe tbody tr th:only-of-type {\n",
       "        vertical-align: middle;\n",
       "    }\n",
       "\n",
       "    .dataframe tbody tr th {\n",
       "        vertical-align: top;\n",
       "    }\n",
       "\n",
       "    .dataframe thead th {\n",
       "        text-align: right;\n",
       "    }\n",
       "</style>\n",
       "<table border=\"1\" class=\"dataframe\">\n",
       "  <thead>\n",
       "    <tr style=\"text-align: right;\">\n",
       "      <th></th>\n",
       "      <th>id_asistencia</th>\n",
       "      <th>id_estudiante</th>\n",
       "      <th>asignatura</th>\n",
       "      <th>fecha</th>\n",
       "      <th>estado</th>\n",
       "    </tr>\n",
       "  </thead>\n",
       "  <tbody>\n",
       "    <tr>\n",
       "      <th>1</th>\n",
       "      <td>102</td>\n",
       "      <td>2</td>\n",
       "      <td>Marketing</td>\n",
       "      <td>2025-04-01</td>\n",
       "      <td>A</td>\n",
       "    </tr>\n",
       "    <tr>\n",
       "      <th>4</th>\n",
       "      <td>105</td>\n",
       "      <td>2</td>\n",
       "      <td>Marketing</td>\n",
       "      <td>2025-05-15</td>\n",
       "      <td>P</td>\n",
       "    </tr>\n",
       "  </tbody>\n",
       "</table>\n",
       "</div>"
      ],
      "text/plain": [
       "   id_asistencia  id_estudiante asignatura      fecha estado\n",
       "1            102              2  Marketing 2025-04-01      A\n",
       "4            105              2  Marketing 2025-05-15      P"
      ]
     },
     "execution_count": 30,
     "metadata": {},
     "output_type": "execute_result"
    }
   ],
   "source": [
    "# Filtrar filas (WHERE asignatura similar 'Matemática Discreta')\n",
    "asistencias[asistencias['asignatura'].str.lower().str.contains(\"mark\", case=False)]"
   ]
  },
  {
   "cell_type": "code",
   "execution_count": 32,
   "id": "8327fc97",
   "metadata": {
    "id": "8327fc97"
   },
   "outputs": [
    {
     "data": {
      "text/html": [
       "<div>\n",
       "<style scoped>\n",
       "    .dataframe tbody tr th:only-of-type {\n",
       "        vertical-align: middle;\n",
       "    }\n",
       "\n",
       "    .dataframe tbody tr th {\n",
       "        vertical-align: top;\n",
       "    }\n",
       "\n",
       "    .dataframe thead th {\n",
       "        text-align: right;\n",
       "    }\n",
       "</style>\n",
       "<table border=\"1\" class=\"dataframe\">\n",
       "  <thead>\n",
       "    <tr style=\"text-align: right;\">\n",
       "      <th></th>\n",
       "      <th>id_asistencia</th>\n",
       "      <th>id_estudiante</th>\n",
       "      <th>asignatura</th>\n",
       "      <th>fecha</th>\n",
       "      <th>estado</th>\n",
       "    </tr>\n",
       "  </thead>\n",
       "  <tbody>\n",
       "    <tr>\n",
       "      <th>1</th>\n",
       "      <td>102</td>\n",
       "      <td>2</td>\n",
       "      <td>Marketing</td>\n",
       "      <td>2025-04-01</td>\n",
       "      <td>A</td>\n",
       "    </tr>\n",
       "    <tr>\n",
       "      <th>4</th>\n",
       "      <td>105</td>\n",
       "      <td>2</td>\n",
       "      <td>Marketing</td>\n",
       "      <td>2025-05-15</td>\n",
       "      <td>P</td>\n",
       "    </tr>\n",
       "  </tbody>\n",
       "</table>\n",
       "</div>"
      ],
      "text/plain": [
       "   id_asistencia  id_estudiante asignatura      fecha estado\n",
       "1            102              2  Marketing 2025-04-01      A\n",
       "4            105              2  Marketing 2025-05-15      P"
      ]
     },
     "execution_count": 32,
     "metadata": {},
     "output_type": "execute_result"
    }
   ],
   "source": [
    "# Filtrar con query\n",
    "asistencias.query(\"asignatura == 'Marketing'\")\n",
    "\n"
   ]
  },
  {
   "cell_type": "code",
   "execution_count": 34,
   "id": "CaP3VXoDpKiJ",
   "metadata": {
    "id": "CaP3VXoDpKiJ"
   },
   "outputs": [
    {
     "data": {
      "text/html": [
       "<div>\n",
       "<style scoped>\n",
       "    .dataframe tbody tr th:only-of-type {\n",
       "        vertical-align: middle;\n",
       "    }\n",
       "\n",
       "    .dataframe tbody tr th {\n",
       "        vertical-align: top;\n",
       "    }\n",
       "\n",
       "    .dataframe thead th {\n",
       "        text-align: right;\n",
       "    }\n",
       "</style>\n",
       "<table border=\"1\" class=\"dataframe\">\n",
       "  <thead>\n",
       "    <tr style=\"text-align: right;\">\n",
       "      <th></th>\n",
       "      <th>asignatura</th>\n",
       "    </tr>\n",
       "  </thead>\n",
       "  <tbody>\n",
       "    <tr>\n",
       "      <th>1</th>\n",
       "      <td>Marketing</td>\n",
       "    </tr>\n",
       "  </tbody>\n",
       "</table>\n",
       "</div>"
      ],
      "text/plain": [
       "  asignatura\n",
       "1  Marketing"
      ]
     },
     "execution_count": 34,
     "metadata": {},
     "output_type": "execute_result"
    }
   ],
   "source": [
    "asistencias.loc[asistencias[\"estado\"] == \"A\", [\"asignatura\"]]"
   ]
  },
  {
   "cell_type": "code",
   "execution_count": 36,
   "id": "e0d9c081",
   "metadata": {},
   "outputs": [
    {
     "data": {
      "text/html": [
       "<div>\n",
       "<style scoped>\n",
       "    .dataframe tbody tr th:only-of-type {\n",
       "        vertical-align: middle;\n",
       "    }\n",
       "\n",
       "    .dataframe tbody tr th {\n",
       "        vertical-align: top;\n",
       "    }\n",
       "\n",
       "    .dataframe thead th {\n",
       "        text-align: right;\n",
       "    }\n",
       "</style>\n",
       "<table border=\"1\" class=\"dataframe\">\n",
       "  <thead>\n",
       "    <tr style=\"text-align: right;\">\n",
       "      <th></th>\n",
       "      <th>asignatura</th>\n",
       "      <th>fecha</th>\n",
       "    </tr>\n",
       "  </thead>\n",
       "  <tbody>\n",
       "    <tr>\n",
       "      <th>0</th>\n",
       "      <td>Algoritmos</td>\n",
       "      <td>2025-03-01</td>\n",
       "    </tr>\n",
       "    <tr>\n",
       "      <th>1</th>\n",
       "      <td>Marketing</td>\n",
       "      <td>2025-04-01</td>\n",
       "    </tr>\n",
       "    <tr>\n",
       "      <th>2</th>\n",
       "      <td>Algoritmos</td>\n",
       "      <td>2025-04-09</td>\n",
       "    </tr>\n",
       "    <tr>\n",
       "      <th>3</th>\n",
       "      <td>Progra I</td>\n",
       "      <td>2025-05-08</td>\n",
       "    </tr>\n",
       "    <tr>\n",
       "      <th>4</th>\n",
       "      <td>Marketing</td>\n",
       "      <td>2025-05-15</td>\n",
       "    </tr>\n",
       "  </tbody>\n",
       "</table>\n",
       "</div>"
      ],
      "text/plain": [
       "   asignatura      fecha\n",
       "0  Algoritmos 2025-03-01\n",
       "1   Marketing 2025-04-01\n",
       "2  Algoritmos 2025-04-09\n",
       "3    Progra I 2025-05-08\n",
       "4   Marketing 2025-05-15"
      ]
     },
     "execution_count": 36,
     "metadata": {},
     "output_type": "execute_result"
    }
   ],
   "source": [
    "asistencias[[\"asignatura\", \"fecha\"]]"
   ]
  },
  {
   "cell_type": "code",
   "execution_count": 40,
   "id": "182b38e3",
   "metadata": {},
   "outputs": [
    {
     "data": {
      "text/plain": [
       "0    2025\n",
       "1    2025\n",
       "2    2025\n",
       "3    2025\n",
       "4    2025\n",
       "Name: fecha, dtype: int32"
      ]
     },
     "execution_count": 40,
     "metadata": {},
     "output_type": "execute_result"
    }
   ],
   "source": [
    "asistencias['fecha'].dt.year"
   ]
  },
  {
   "cell_type": "code",
   "execution_count": 43,
   "id": "cP5y3acApeLT",
   "metadata": {
    "id": "cP5y3acApeLT"
   },
   "outputs": [
    {
     "data": {
      "text/html": [
       "<div>\n",
       "<style scoped>\n",
       "    .dataframe tbody tr th:only-of-type {\n",
       "        vertical-align: middle;\n",
       "    }\n",
       "\n",
       "    .dataframe tbody tr th {\n",
       "        vertical-align: top;\n",
       "    }\n",
       "\n",
       "    .dataframe thead th {\n",
       "        text-align: right;\n",
       "    }\n",
       "</style>\n",
       "<table border=\"1\" class=\"dataframe\">\n",
       "  <thead>\n",
       "    <tr style=\"text-align: right;\">\n",
       "      <th></th>\n",
       "      <th>id_asistencia</th>\n",
       "      <th>id_estudiante</th>\n",
       "      <th>asignatura</th>\n",
       "      <th>fecha</th>\n",
       "      <th>estado</th>\n",
       "    </tr>\n",
       "  </thead>\n",
       "  <tbody>\n",
       "    <tr>\n",
       "      <th>1</th>\n",
       "      <td>102</td>\n",
       "      <td>2</td>\n",
       "      <td>Marketing</td>\n",
       "      <td>2025-04-01</td>\n",
       "      <td>A</td>\n",
       "    </tr>\n",
       "    <tr>\n",
       "      <th>2</th>\n",
       "      <td>103</td>\n",
       "      <td>1</td>\n",
       "      <td>Algoritmos</td>\n",
       "      <td>2025-04-09</td>\n",
       "      <td>M</td>\n",
       "    </tr>\n",
       "    <tr>\n",
       "      <th>3</th>\n",
       "      <td>104</td>\n",
       "      <td>3</td>\n",
       "      <td>Progra I</td>\n",
       "      <td>2025-05-08</td>\n",
       "      <td>P</td>\n",
       "    </tr>\n",
       "    <tr>\n",
       "      <th>4</th>\n",
       "      <td>105</td>\n",
       "      <td>2</td>\n",
       "      <td>Marketing</td>\n",
       "      <td>2025-05-15</td>\n",
       "      <td>P</td>\n",
       "    </tr>\n",
       "  </tbody>\n",
       "</table>\n",
       "</div>"
      ],
      "text/plain": [
       "   id_asistencia  id_estudiante  asignatura      fecha estado\n",
       "1            102              2   Marketing 2025-04-01      A\n",
       "2            103              1  Algoritmos 2025-04-09      M\n",
       "3            104              3    Progra I 2025-05-08      P\n",
       "4            105              2   Marketing 2025-05-15      P"
      ]
     },
     "execution_count": 43,
     "metadata": {},
     "output_type": "execute_result"
    }
   ],
   "source": [
    "# Acceder al mes o año para filtros mas amplios\n",
    "asistencias[asistencias['fecha'].dt.month >= 4]"
   ]
  },
  {
   "cell_type": "code",
   "execution_count": null,
   "id": "6gIsb_y9rbhY",
   "metadata": {
    "id": "6gIsb_y9rbhY"
   },
   "outputs": [],
   "source": [
    "# Acceder al mes o año para filtros mas amplios con &\n",
    "asistencias[(asistencias['fecha'].dt.month == 4) & (asistencias['asignatura']=='Algoritmos')]"
   ]
  },
  {
   "cell_type": "markdown",
   "id": "63f04e16",
   "metadata": {
    "id": "63f04e16"
   },
   "source": [
    "## 📊 Ordenamiento de datos\n",
    "\n",
    "Simula un `ORDER BY`.\n"
   ]
  },
  {
   "cell_type": "code",
   "execution_count": null,
   "id": "eSTYxDe0Z0Cj",
   "metadata": {
    "id": "eSTYxDe0Z0Cj"
   },
   "outputs": [],
   "source": [
    "# Ordenar estudiantes por nombre\n",
    "estudiantes.sort_values('nombre')\n"
   ]
  },
  {
   "cell_type": "code",
   "execution_count": 46,
   "id": "E24aIqgKaoUJ",
   "metadata": {
    "id": "E24aIqgKaoUJ"
   },
   "outputs": [
    {
     "data": {
      "text/html": [
       "<div>\n",
       "<style scoped>\n",
       "    .dataframe tbody tr th:only-of-type {\n",
       "        vertical-align: middle;\n",
       "    }\n",
       "\n",
       "    .dataframe tbody tr th {\n",
       "        vertical-align: top;\n",
       "    }\n",
       "\n",
       "    .dataframe thead th {\n",
       "        text-align: right;\n",
       "    }\n",
       "</style>\n",
       "<table border=\"1\" class=\"dataframe\">\n",
       "  <thead>\n",
       "    <tr style=\"text-align: right;\">\n",
       "      <th></th>\n",
       "      <th>id_asistencia</th>\n",
       "      <th>id_estudiante</th>\n",
       "      <th>asignatura</th>\n",
       "      <th>fecha</th>\n",
       "      <th>estado</th>\n",
       "    </tr>\n",
       "  </thead>\n",
       "  <tbody>\n",
       "    <tr>\n",
       "      <th>3</th>\n",
       "      <td>104</td>\n",
       "      <td>3</td>\n",
       "      <td>Progra I</td>\n",
       "      <td>2025-05-08</td>\n",
       "      <td>P</td>\n",
       "    </tr>\n",
       "    <tr>\n",
       "      <th>1</th>\n",
       "      <td>102</td>\n",
       "      <td>2</td>\n",
       "      <td>Marketing</td>\n",
       "      <td>2025-04-01</td>\n",
       "      <td>A</td>\n",
       "    </tr>\n",
       "    <tr>\n",
       "      <th>4</th>\n",
       "      <td>105</td>\n",
       "      <td>2</td>\n",
       "      <td>Marketing</td>\n",
       "      <td>2025-05-15</td>\n",
       "      <td>P</td>\n",
       "    </tr>\n",
       "    <tr>\n",
       "      <th>0</th>\n",
       "      <td>101</td>\n",
       "      <td>1</td>\n",
       "      <td>Algoritmos</td>\n",
       "      <td>2025-03-01</td>\n",
       "      <td>P</td>\n",
       "    </tr>\n",
       "    <tr>\n",
       "      <th>2</th>\n",
       "      <td>103</td>\n",
       "      <td>1</td>\n",
       "      <td>Algoritmos</td>\n",
       "      <td>2025-04-09</td>\n",
       "      <td>M</td>\n",
       "    </tr>\n",
       "  </tbody>\n",
       "</table>\n",
       "</div>"
      ],
      "text/plain": [
       "   id_asistencia  id_estudiante  asignatura      fecha estado\n",
       "3            104              3    Progra I 2025-05-08      P\n",
       "1            102              2   Marketing 2025-04-01      A\n",
       "4            105              2   Marketing 2025-05-15      P\n",
       "0            101              1  Algoritmos 2025-03-01      P\n",
       "2            103              1  Algoritmos 2025-04-09      M"
      ]
     },
     "execution_count": 46,
     "metadata": {},
     "output_type": "execute_result"
    }
   ],
   "source": [
    "# Ordenar asistencias por asignatura descendiente\n",
    "asistencias.sort_values(by=\"asignatura\", ascending=False)"
   ]
  },
  {
   "cell_type": "code",
   "execution_count": 48,
   "id": "81713bc5",
   "metadata": {
    "id": "81713bc5"
   },
   "outputs": [
    {
     "data": {
      "text/html": [
       "<div>\n",
       "<style scoped>\n",
       "    .dataframe tbody tr th:only-of-type {\n",
       "        vertical-align: middle;\n",
       "    }\n",
       "\n",
       "    .dataframe tbody tr th {\n",
       "        vertical-align: top;\n",
       "    }\n",
       "\n",
       "    .dataframe thead th {\n",
       "        text-align: right;\n",
       "    }\n",
       "</style>\n",
       "<table border=\"1\" class=\"dataframe\">\n",
       "  <thead>\n",
       "    <tr style=\"text-align: right;\">\n",
       "      <th></th>\n",
       "      <th>id_asistencia</th>\n",
       "      <th>id_estudiante</th>\n",
       "      <th>asignatura</th>\n",
       "      <th>fecha</th>\n",
       "      <th>estado</th>\n",
       "    </tr>\n",
       "  </thead>\n",
       "  <tbody>\n",
       "    <tr>\n",
       "      <th>0</th>\n",
       "      <td>101</td>\n",
       "      <td>1</td>\n",
       "      <td>Algoritmos</td>\n",
       "      <td>2025-03-01</td>\n",
       "      <td>P</td>\n",
       "    </tr>\n",
       "    <tr>\n",
       "      <th>2</th>\n",
       "      <td>103</td>\n",
       "      <td>1</td>\n",
       "      <td>Algoritmos</td>\n",
       "      <td>2025-04-09</td>\n",
       "      <td>M</td>\n",
       "    </tr>\n",
       "    <tr>\n",
       "      <th>1</th>\n",
       "      <td>102</td>\n",
       "      <td>2</td>\n",
       "      <td>Marketing</td>\n",
       "      <td>2025-04-01</td>\n",
       "      <td>A</td>\n",
       "    </tr>\n",
       "    <tr>\n",
       "      <th>4</th>\n",
       "      <td>105</td>\n",
       "      <td>2</td>\n",
       "      <td>Marketing</td>\n",
       "      <td>2025-05-15</td>\n",
       "      <td>P</td>\n",
       "    </tr>\n",
       "    <tr>\n",
       "      <th>3</th>\n",
       "      <td>104</td>\n",
       "      <td>3</td>\n",
       "      <td>Progra I</td>\n",
       "      <td>2025-05-08</td>\n",
       "      <td>P</td>\n",
       "    </tr>\n",
       "  </tbody>\n",
       "</table>\n",
       "</div>"
      ],
      "text/plain": [
       "   id_asistencia  id_estudiante  asignatura      fecha estado\n",
       "0            101              1  Algoritmos 2025-03-01      P\n",
       "2            103              1  Algoritmos 2025-04-09      M\n",
       "1            102              2   Marketing 2025-04-01      A\n",
       "4            105              2   Marketing 2025-05-15      P\n",
       "3            104              3    Progra I 2025-05-08      P"
      ]
     },
     "execution_count": 48,
     "metadata": {},
     "output_type": "execute_result"
    }
   ],
   "source": [
    "# Ordenar por asignatura y por estado\n",
    "asistencias.sort_values(['asignatura', 'fecha'])\n"
   ]
  },
  {
   "cell_type": "markdown",
   "id": "742d9470",
   "metadata": {
    "id": "742d9470"
   },
   "source": [
    "## 🔗 Combinación de DataFrames (JOIN)\n",
    "\n",
    "Simula un `JOIN` entre tablas SQL.\n"
   ]
  },
  {
   "cell_type": "code",
   "execution_count": 49,
   "id": "917faa9c",
   "metadata": {
    "id": "917faa9c"
   },
   "outputs": [
    {
     "data": {
      "text/html": [
       "<div>\n",
       "<style scoped>\n",
       "    .dataframe tbody tr th:only-of-type {\n",
       "        vertical-align: middle;\n",
       "    }\n",
       "\n",
       "    .dataframe tbody tr th {\n",
       "        vertical-align: top;\n",
       "    }\n",
       "\n",
       "    .dataframe thead th {\n",
       "        text-align: right;\n",
       "    }\n",
       "</style>\n",
       "<table border=\"1\" class=\"dataframe\">\n",
       "  <thead>\n",
       "    <tr style=\"text-align: right;\">\n",
       "      <th></th>\n",
       "      <th>id_estudiante</th>\n",
       "      <th>nombre</th>\n",
       "      <th>apellido</th>\n",
       "      <th>legajo</th>\n",
       "      <th>id_asistencia</th>\n",
       "      <th>asignatura</th>\n",
       "      <th>fecha</th>\n",
       "      <th>estado</th>\n",
       "    </tr>\n",
       "  </thead>\n",
       "  <tbody>\n",
       "    <tr>\n",
       "      <th>0</th>\n",
       "      <td>1</td>\n",
       "      <td>Ana</td>\n",
       "      <td>Kunst</td>\n",
       "      <td>1568</td>\n",
       "      <td>101</td>\n",
       "      <td>Algoritmos</td>\n",
       "      <td>2025-03-01</td>\n",
       "      <td>P</td>\n",
       "    </tr>\n",
       "    <tr>\n",
       "      <th>1</th>\n",
       "      <td>1</td>\n",
       "      <td>Ana</td>\n",
       "      <td>Kunst</td>\n",
       "      <td>1568</td>\n",
       "      <td>103</td>\n",
       "      <td>Algoritmos</td>\n",
       "      <td>2025-04-09</td>\n",
       "      <td>M</td>\n",
       "    </tr>\n",
       "    <tr>\n",
       "      <th>2</th>\n",
       "      <td>2</td>\n",
       "      <td>Luis</td>\n",
       "      <td>Martins</td>\n",
       "      <td>2649</td>\n",
       "      <td>102</td>\n",
       "      <td>Marketing</td>\n",
       "      <td>2025-04-01</td>\n",
       "      <td>A</td>\n",
       "    </tr>\n",
       "    <tr>\n",
       "      <th>3</th>\n",
       "      <td>2</td>\n",
       "      <td>Luis</td>\n",
       "      <td>Martins</td>\n",
       "      <td>2649</td>\n",
       "      <td>105</td>\n",
       "      <td>Marketing</td>\n",
       "      <td>2025-05-15</td>\n",
       "      <td>P</td>\n",
       "    </tr>\n",
       "    <tr>\n",
       "      <th>4</th>\n",
       "      <td>3</td>\n",
       "      <td>Sofía</td>\n",
       "      <td>Ripol</td>\n",
       "      <td>1523</td>\n",
       "      <td>104</td>\n",
       "      <td>Progra I</td>\n",
       "      <td>2025-05-08</td>\n",
       "      <td>P</td>\n",
       "    </tr>\n",
       "  </tbody>\n",
       "</table>\n",
       "</div>"
      ],
      "text/plain": [
       "   id_estudiante nombre apellido legajo  id_asistencia  asignatura      fecha  \\\n",
       "0              1    Ana    Kunst   1568            101  Algoritmos 2025-03-01   \n",
       "1              1    Ana    Kunst   1568            103  Algoritmos 2025-04-09   \n",
       "2              2   Luis  Martins   2649            102   Marketing 2025-04-01   \n",
       "3              2   Luis  Martins   2649            105   Marketing 2025-05-15   \n",
       "4              3  Sofía    Ripol   1523            104    Progra I 2025-05-08   \n",
       "\n",
       "  estado  \n",
       "0      P  \n",
       "1      M  \n",
       "2      A  \n",
       "3      P  \n",
       "4      P  "
      ]
     },
     "execution_count": 49,
     "metadata": {},
     "output_type": "execute_result"
    }
   ],
   "source": [
    "# INNER JOIN: estudiantes con sus asistencias\n",
    "join_ea = pd.merge(estudiantes, asistencias, on='id_estudiante', how='inner')\n",
    "join_ea\n"
   ]
  },
  {
   "cell_type": "markdown",
   "id": "614af7c1",
   "metadata": {
    "id": "614af7c1"
   },
   "source": [
    "## 📈 Agrupamiento y agregación (GROUP BY)\n",
    "\n",
    "Simula un `GROUP BY` de SQL.\n"
   ]
  },
  {
   "cell_type": "code",
   "execution_count": 53,
   "id": "8be2242b",
   "metadata": {
    "id": "8be2242b"
   },
   "outputs": [
    {
     "data": {
      "text/html": [
       "<div>\n",
       "<style scoped>\n",
       "    .dataframe tbody tr th:only-of-type {\n",
       "        vertical-align: middle;\n",
       "    }\n",
       "\n",
       "    .dataframe tbody tr th {\n",
       "        vertical-align: top;\n",
       "    }\n",
       "\n",
       "    .dataframe thead th {\n",
       "        text-align: right;\n",
       "    }\n",
       "</style>\n",
       "<table border=\"1\" class=\"dataframe\">\n",
       "  <thead>\n",
       "    <tr style=\"text-align: right;\">\n",
       "      <th></th>\n",
       "      <th>id_estudiante</th>\n",
       "      <th>nombre</th>\n",
       "      <th>apellido</th>\n",
       "      <th>legajo</th>\n",
       "      <th>id_asistencia</th>\n",
       "      <th>asignatura</th>\n",
       "      <th>fecha</th>\n",
       "      <th>estado</th>\n",
       "    </tr>\n",
       "  </thead>\n",
       "  <tbody>\n",
       "    <tr>\n",
       "      <th>0</th>\n",
       "      <td>1</td>\n",
       "      <td>Ana</td>\n",
       "      <td>Kunst</td>\n",
       "      <td>1568</td>\n",
       "      <td>101</td>\n",
       "      <td>Algoritmos</td>\n",
       "      <td>2025-03-01</td>\n",
       "      <td>P</td>\n",
       "    </tr>\n",
       "    <tr>\n",
       "      <th>3</th>\n",
       "      <td>2</td>\n",
       "      <td>Luis</td>\n",
       "      <td>Martins</td>\n",
       "      <td>2649</td>\n",
       "      <td>105</td>\n",
       "      <td>Marketing</td>\n",
       "      <td>2025-05-15</td>\n",
       "      <td>P</td>\n",
       "    </tr>\n",
       "    <tr>\n",
       "      <th>4</th>\n",
       "      <td>3</td>\n",
       "      <td>Sofía</td>\n",
       "      <td>Ripol</td>\n",
       "      <td>1523</td>\n",
       "      <td>104</td>\n",
       "      <td>Progra I</td>\n",
       "      <td>2025-05-08</td>\n",
       "      <td>P</td>\n",
       "    </tr>\n",
       "  </tbody>\n",
       "</table>\n",
       "</div>"
      ],
      "text/plain": [
       "   id_estudiante nombre apellido legajo  id_asistencia  asignatura      fecha  \\\n",
       "0              1    Ana    Kunst   1568            101  Algoritmos 2025-03-01   \n",
       "3              2   Luis  Martins   2649            105   Marketing 2025-05-15   \n",
       "4              3  Sofía    Ripol   1523            104    Progra I 2025-05-08   \n",
       "\n",
       "  estado  \n",
       "0      P  \n",
       "3      P  \n",
       "4      P  "
      ]
     },
     "execution_count": 53,
     "metadata": {},
     "output_type": "execute_result"
    }
   ],
   "source": [
    "# Cantidad de asistencias por carrera\n",
    "# Primero filtramos los presentes\n",
    "reporte = join_ea[join_ea['estado'] == 'P']\n",
    "#reporte = reporte.groupby('asignatura')['estado'].count().reset_index()\n",
    "reporte"
   ]
  },
  {
   "cell_type": "code",
   "execution_count": 52,
   "id": "9f6eabde",
   "metadata": {},
   "outputs": [
    {
     "name": "stdout",
     "output_type": "stream",
     "text": [
      "<class 'pandas.core.frame.DataFrame'>\n",
      "Index: 3 entries, 0 to 4\n",
      "Data columns (total 8 columns):\n",
      " #   Column         Non-Null Count  Dtype         \n",
      "---  ------         --------------  -----         \n",
      " 0   id_estudiante  3 non-null      int64         \n",
      " 1   nombre         3 non-null      object        \n",
      " 2   apellido       3 non-null      object        \n",
      " 3   legajo         3 non-null      object        \n",
      " 4   id_asistencia  3 non-null      int64         \n",
      " 5   asignatura     3 non-null      object        \n",
      " 6   fecha          3 non-null      datetime64[ns]\n",
      " 7   estado         3 non-null      object        \n",
      "dtypes: datetime64[ns](1), int64(2), object(5)\n",
      "memory usage: 216.0+ bytes\n"
     ]
    }
   ],
   "source": [
    "reporte.info()"
   ]
  },
  {
   "cell_type": "code",
   "execution_count": 54,
   "id": "5riiSjurd8b0",
   "metadata": {
    "id": "5riiSjurd8b0"
   },
   "outputs": [
    {
     "data": {
      "text/html": [
       "<div>\n",
       "<style scoped>\n",
       "    .dataframe tbody tr th:only-of-type {\n",
       "        vertical-align: middle;\n",
       "    }\n",
       "\n",
       "    .dataframe tbody tr th {\n",
       "        vertical-align: top;\n",
       "    }\n",
       "\n",
       "    .dataframe thead th {\n",
       "        text-align: right;\n",
       "    }\n",
       "</style>\n",
       "<table border=\"1\" class=\"dataframe\">\n",
       "  <thead>\n",
       "    <tr style=\"text-align: right;\">\n",
       "      <th></th>\n",
       "      <th>index</th>\n",
       "      <th>nombre</th>\n",
       "      <th>apellido</th>\n",
       "      <th>estado</th>\n",
       "    </tr>\n",
       "  </thead>\n",
       "  <tbody>\n",
       "    <tr>\n",
       "      <th>0</th>\n",
       "      <td>0</td>\n",
       "      <td>Ana</td>\n",
       "      <td>Kunst</td>\n",
       "      <td>1</td>\n",
       "    </tr>\n",
       "    <tr>\n",
       "      <th>1</th>\n",
       "      <td>1</td>\n",
       "      <td>Luis</td>\n",
       "      <td>Martins</td>\n",
       "      <td>1</td>\n",
       "    </tr>\n",
       "    <tr>\n",
       "      <th>2</th>\n",
       "      <td>2</td>\n",
       "      <td>Sofía</td>\n",
       "      <td>Ripol</td>\n",
       "      <td>1</td>\n",
       "    </tr>\n",
       "  </tbody>\n",
       "</table>\n",
       "</div>"
      ],
      "text/plain": [
       "   index nombre apellido  estado\n",
       "0      0    Ana    Kunst       1\n",
       "1      1   Luis  Martins       1\n",
       "2      2  Sofía    Ripol       1"
      ]
     },
     "execution_count": 54,
     "metadata": {},
     "output_type": "execute_result"
    }
   ],
   "source": [
    "# Cantidad de asistencias por estudiante\n",
    "# Primero filtramos los presentes\n",
    "reporte = join_ea[join_ea['estado'] == 'P']\n",
    "reporte = reporte.groupby(['nombre', 'apellido'], as_index=False)['estado'].count().reset_index()\n",
    "reporte"
   ]
  },
  {
   "cell_type": "code",
   "execution_count": 55,
   "id": "TppRgDyDti81",
   "metadata": {
    "id": "TppRgDyDti81"
   },
   "outputs": [
    {
     "data": {
      "text/html": [
       "<div>\n",
       "<style scoped>\n",
       "    .dataframe tbody tr th:only-of-type {\n",
       "        vertical-align: middle;\n",
       "    }\n",
       "\n",
       "    .dataframe tbody tr th {\n",
       "        vertical-align: top;\n",
       "    }\n",
       "\n",
       "    .dataframe thead th {\n",
       "        text-align: right;\n",
       "    }\n",
       "</style>\n",
       "<table border=\"1\" class=\"dataframe\">\n",
       "  <thead>\n",
       "    <tr style=\"text-align: right;\">\n",
       "      <th></th>\n",
       "      <th>nombre</th>\n",
       "      <th>apellido</th>\n",
       "      <th>asistencia</th>\n",
       "    </tr>\n",
       "  </thead>\n",
       "  <tbody>\n",
       "    <tr>\n",
       "      <th>0</th>\n",
       "      <td>Ana</td>\n",
       "      <td>Kunst</td>\n",
       "      <td>1</td>\n",
       "    </tr>\n",
       "    <tr>\n",
       "      <th>1</th>\n",
       "      <td>Luis</td>\n",
       "      <td>Martins</td>\n",
       "      <td>1</td>\n",
       "    </tr>\n",
       "    <tr>\n",
       "      <th>2</th>\n",
       "      <td>Sofía</td>\n",
       "      <td>Ripol</td>\n",
       "      <td>1</td>\n",
       "    </tr>\n",
       "  </tbody>\n",
       "</table>\n",
       "</div>"
      ],
      "text/plain": [
       "  nombre apellido  asistencia\n",
       "0    Ana    Kunst           1\n",
       "1   Luis  Martins           1\n",
       "2  Sofía    Ripol           1"
      ]
     },
     "execution_count": 55,
     "metadata": {},
     "output_type": "execute_result"
    }
   ],
   "source": [
    "# Cantidad de asistencias por estudiante (usando otros métodos de agregación)\n",
    "# Primero filtramos los presentes\n",
    "reporte = join_ea[asistencias['estado'] == 'P']\n",
    "reporte = reporte.groupby(['nombre', 'apellido'], as_index=False).agg(\n",
    "    asistencia = ('estado', 'count')\n",
    ")\n",
    "# reporte = reporte.groupby(['nombre', 'apellido'], as_index=False).agg(\n",
    "#     {'estado': 'count'}\n",
    "# )\n",
    "reporte"
   ]
  },
  {
   "cell_type": "markdown",
   "id": "fa5c8112",
   "metadata": {
    "id": "fa5c8112"
   },
   "source": [
    "## 🧩 Ejercicio final\n",
    "\n",
    "1. Crea DataFrames para otro modelo (por ejemplo, *productos*, *proveedores* y *stock*).\n",
    "2. Usa `merge()` para generar un reporte que relacione productos y proveedores.\n",
    "3. Usa `groupby()` para obtener el total de stock por proveedor.\n",
    "4. Guarda el resultado en un archivo CSV con `to_csv('reporte.csv', index=False)`.\n"
   ]
  }
 ],
 "metadata": {
  "colab": {
   "provenance": []
  },
  "kernelspec": {
   "display_name": "Python 3",
   "name": "python3"
  },
  "language_info": {
   "codemirror_mode": {
    "name": "ipython",
    "version": 3
   },
   "file_extension": ".py",
   "mimetype": "text/x-python",
   "name": "python",
   "nbconvert_exporter": "python",
   "pygments_lexer": "ipython3",
   "version": "3.12.7"
  }
 },
 "nbformat": 4,
 "nbformat_minor": 5
}
